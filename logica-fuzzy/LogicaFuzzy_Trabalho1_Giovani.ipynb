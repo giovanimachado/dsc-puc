{
  "nbformat": 4,
  "nbformat_minor": 0,
  "metadata": {
    "colab": {
      "name": "LogicaFuzzy_Trabalho1-Giovani.ipynb",
      "provenance": [],
      "collapsed_sections": [],
      "include_colab_link": true
    },
    "kernelspec": {
      "display_name": "RelationExtraction",
      "language": "python",
      "name": "relationextraction"
    },
    "language_info": {
      "codemirror_mode": {
        "name": "ipython",
        "version": 3
      },
      "file_extension": ".py",
      "mimetype": "text/x-python",
      "name": "python",
      "nbconvert_exporter": "python",
      "pygments_lexer": "ipython3",
      "version": "3.7.9"
    }
  },
  "cells": [
    {
      "cell_type": "markdown",
      "metadata": {
        "id": "view-in-github",
        "colab_type": "text"
      },
      "source": [
        "<a href=\"https://colab.research.google.com/github/giovanimachado/phd-puc/blob/main/logica-fuzzy/LogicaFuzzy_Trabalho1_Giovani.ipynb\" target=\"_parent\"><img src=\"https://colab.research.google.com/assets/colab-badge.svg\" alt=\"Open In Colab\"/></a>"
      ]
    },
    {
      "cell_type": "markdown",
      "metadata": {
        "id": "jHvM05qcwMrZ"
      },
      "source": [
        "Author: Cristian Muñoz Villalobos <br>\n",
        "Edapted by Giovani F. Machado\n",
        "\n"
      ]
    },
    {
      "cell_type": "code",
      "metadata": {
        "id": "b7KrXSa-sVk5",
        "colab": {
          "base_uri": "https://localhost:8080/"
        },
        "outputId": "4c2ce8ae-7783-41c5-f117-8aeb4cab52b2"
      },
      "source": [
        "#!wget https://raw.githubusercontent.com/crismunoz/Fuzzy-Logic/master/6_RulesExtraction/Dolar.txt\n",
        "!wget https://raw.githubusercontent.com/crismunoz/Fuzzy-Logic/master/6_RulesExtraction/fuzzy_rules.py\n",
        "!pip install scikit-fuzzy"
      ],
      "execution_count": null,
      "outputs": [
        {
          "output_type": "stream",
          "text": [
            "--2020-11-16 00:11:50--  https://raw.githubusercontent.com/crismunoz/Fuzzy-Logic/master/6_RulesExtraction/fuzzy_rules.py\n",
            "Resolving raw.githubusercontent.com (raw.githubusercontent.com)... 151.101.0.133, 151.101.64.133, 151.101.128.133, ...\n",
            "Connecting to raw.githubusercontent.com (raw.githubusercontent.com)|151.101.0.133|:443... connected.\n",
            "HTTP request sent, awaiting response... 200 OK\n",
            "Length: 4794 (4.7K) [text/plain]\n",
            "Saving to: ‘fuzzy_rules.py’\n",
            "\n",
            "\rfuzzy_rules.py        0%[                    ]       0  --.-KB/s               \rfuzzy_rules.py      100%[===================>]   4.68K  --.-KB/s    in 0s      \n",
            "\n",
            "2020-11-16 00:11:51 (30.8 MB/s) - ‘fuzzy_rules.py’ saved [4794/4794]\n",
            "\n",
            "Requirement already satisfied: scikit-fuzzy in /usr/local/lib/python3.6/dist-packages (0.4.2)\n",
            "Requirement already satisfied: numpy>=1.6.0 in /usr/local/lib/python3.6/dist-packages (from scikit-fuzzy) (1.18.5)\n",
            "Requirement already satisfied: scipy>=0.9.0 in /usr/local/lib/python3.6/dist-packages (from scikit-fuzzy) (1.4.1)\n",
            "Requirement already satisfied: networkx>=1.9.0 in /usr/local/lib/python3.6/dist-packages (from scikit-fuzzy) (2.5)\n",
            "Requirement already satisfied: decorator>=4.3.0 in /usr/local/lib/python3.6/dist-packages (from networkx>=1.9.0->scikit-fuzzy) (4.4.2)\n"
          ],
          "name": "stdout"
        }
      ]
    },
    {
      "cell_type": "code",
      "metadata": {
        "id": "WvlyfkkwsN3s"
      },
      "source": [
        "from datetime import timedelta, date\n",
        "from operator import itemgetter\n",
        "from itertools import groupby\n",
        "\n",
        "import tensorflow as tf\n",
        "import numpy as np\n",
        "import pandas as pd\n",
        "import matplotlib.pyplot as plt\n",
        "import datetime\n",
        "import pprint\n",
        "import os\n",
        "\n",
        "import skfuzzy as fuzz\n",
        "from skfuzzy import control as ctrl\n",
        "from fuzzy_rules import extract_rules,config_input_variable,config_output_variable,define_input_variables,define_output_variables,read_dataset\n",
        "\n",
        "from sklearn.metrics import mean_squared_error,accuracy_score\n",
        "from sklearn.model_selection import train_test_split"
      ],
      "execution_count": null,
      "outputs": []
    },
    {
      "cell_type": "markdown",
      "metadata": {
        "id": "cUtsqsKZsN30"
      },
      "source": [
        "# Read data with format (tab separator): "
      ]
    },
    {
      "cell_type": "code",
      "metadata": {
        "id": "LZp_39c0sN30",
        "colab": {
          "base_uri": "https://localhost:8080/"
        },
        "outputId": "d34a280e-f033-4a64-a87e-6e9241cbe60b"
      },
      "source": [
        "cat EmpresaX.txt | head -5 "
      ],
      "execution_count": null,
      "outputs": [
        {
          "output_type": "stream",
          "text": [
            "0,4290\r\n",
            "0,4430\r\n",
            "0,4510\r\n",
            "0,4550\r\n",
            "0,4400\r\n"
          ],
          "name": "stdout"
        }
      ]
    },
    {
      "cell_type": "code",
      "metadata": {
        "id": "pYaNwTLnsN33",
        "colab": {
          "base_uri": "https://localhost:8080/",
          "height": 293
        },
        "outputId": "03944b11-1899-4b31-9601-c0f3d8eeb0b0"
      },
      "source": [
        "file_path='EmpresaX.txt'\n",
        "data = read_dataset(file_path)\n",
        "plt.figure(figsize=(20,5))\n",
        "plt.title('Series Data: {}'.format(file_path))\n",
        "plt.plot(data)\n",
        "plt.grid()\n",
        "plt.xlabel('steps')\n",
        "plt.ylabel('value')"
      ],
      "execution_count": null,
      "outputs": [
        {
          "output_type": "execute_result",
          "data": {
            "text/plain": [
              "Text(0, 0.5, 'value')"
            ]
          },
          "metadata": {
            "tags": []
          },
          "execution_count": 165
        },
        {
          "output_type": "display_data",
          "data": {
            "image/png": "[encoded data removed]",
            "text/plain": [
              "<Figure size 1440x360 with 1 Axes>"
            ]
          },
          "metadata": {
            "tags": [],
            "needs_background": "light"
          }
        }
      ]
    },
    {
      "cell_type": "markdown",
      "metadata": {
        "id": "oTUrV4I-W2-4"
      },
      "source": [
        "# Parameters definition"
      ]
    },
    {
      "cell_type": "code",
      "metadata": {
        "id": "2-CQYmjqW7wE"
      },
      "source": [
        "steps_forward=1\n",
        "windows_size=6\n",
        "nInputs_sets=3\n",
        "nOutputs_sets=7\n",
        "# nb_inputs: Number of input variable\n",
        "# nb_outputs: Number of output variables"
      ],
      "execution_count": null,
      "outputs": []
    },
    {
      "cell_type": "markdown",
      "metadata": {
        "id": "6jHXle0VzLHp"
      },
      "source": [
        "# Preprocessing Data"
      ]
    },
    {
      "cell_type": "code",
      "metadata": {
        "id": "jdw892IysN37",
        "colab": {
          "base_uri": "https://localhost:8080/"
        },
        "outputId": "3609b77d-5df5-40c2-e774-3a7ccaa85664"
      },
      "source": [
        "steps_forward=steps_forward\n",
        "windows_size=windows_size\n",
        "dataset = tf.data.Dataset.from_tensor_slices(data)\n",
        "dataset = dataset.window(windows_size + steps_forward, shift=1, drop_remainder=True)\n",
        "dataset = np.stack([list(window_dataset) for window_dataset in dataset], axis=0)\n",
        "X,y_true = dataset[:,:-steps_forward,0],dataset[:,-steps_forward:][:,-1,:]\n",
        "X_train, X_test, y_train, y_test = train_test_split(X, y_true, test_size=0.20, shuffle=False)\n",
        "\n",
        "print('-'*21+'\\nDataset Distribution\\n'+'-'*21)\n",
        "print('X\\t:{} | y_true\\t:{}'.format(X.shape,y_true.shape))\n",
        "print('X_train\\t:{} | y_train\\t:{}'.format(X_train.shape,y_train.shape))\n",
        "print('X_test\\t:{}  | y_test\\t:{}'.format(X_test.shape,y_test.shape))"
      ],
      "execution_count": null,
      "outputs": [
        {
          "output_type": "stream",
          "text": [
            "---------------------\n",
            "Dataset Distribution\n",
            "---------------------\n",
            "X\t:(172, 6) | y_true\t:(172, 1)\n",
            "X_train\t:(137, 6) | y_train\t:(137, 1)\n",
            "X_test\t:(35, 6)  | y_test\t:(35, 1)\n"
          ],
          "name": "stdout"
        }
      ]
    },
    {
      "cell_type": "markdown",
      "metadata": {
        "id": "Siw_cKkvbnxu"
      },
      "source": [
        "# Configuration\n",
        "\n",
        "## Variable Parameters\n",
        "- nb_inputs: Number of input variable\n",
        "- nb_outputs: Number of output variables\n",
        "- nb_sets: Number of fuzzy set by variable\n",
        "- min : list of min value for each variables\n",
        "- max : list of max value for each variables\n",
        "- shoulder : The first and last set are trapezoidal function\n",
        "\n",
        "## Fuzzy System Parameters\n",
        "- defuzzify_method: Controls which defuzzification method will be used. \n",
        "    - 'centroid': Centroid of area \n",
        "    - 'bisector': bisector of area \n",
        "    - 'mom' : mean of maximum \n",
        "    - 'som' : min of maximum \n",
        "    - 'lom' : max of maximum\n",
        "- aggregation_opt: mathematic function for OR and AND operation\n",
        "\n",
        "## Other Parameters (optional)\n",
        "- resolution: number of points in discret domain for each I/O variable.\n",
        "- epsilon: gap for min value (min - epsilon) and max value (max + epsilon)"
      ]
    },
    {
      "cell_type": "code",
      "metadata": {
        "id": "f_BlQ3mYsN4B",
        "colab": {
          "base_uri": "https://localhost:8080/"
        },
        "outputId": "81e43e93-650c-42b9-d2b3-27e28261789b"
      },
      "source": [
        "x_min_value = X.min(axis=0)\n",
        "x_max_value = X.max(axis=0)\n",
        "y_min_value = y_true.min(axis=0)\n",
        "y_max_value = y_true.max(axis=0)\n",
        "\n",
        "nb_inputs = X_train.shape[-1]\n",
        "nb_outputs = y_train.shape[-1]\n",
        "\n",
        "aggregation_opt={\n",
        "'and_func':np.fmin,\n",
        "'or_func': np.fmax\n",
        "}\n",
        "\n",
        "config = {\n",
        "    \n",
        "# Variable Parameters\n",
        "'nb_inputs' : nb_inputs,\n",
        "'nb_outputs': nb_outputs,\n",
        "'nb_sets':[[nInputs_sets]*nb_inputs, [nOutputs_sets]*nb_outputs],\n",
        "'min':[x_min_value,y_min_value],\n",
        "'max':[x_max_value,y_max_value],\n",
        "'shoulder':True,\n",
        "\n",
        "# Fuzzy System Parameters\n",
        "'defuzzify_method':'bisector',\n",
        "'aggregation_opt': aggregation_opt,\n",
        "\n",
        "#Other Parametres\n",
        "'resolution':1000,\n",
        "'epsilon':0.0001\n",
        "}\n",
        "\n",
        "pp = pprint.PrettyPrinter(depth=6)\n",
        "pp.pprint(config)\n",
        "pp.pprint(aggregation_opt)"
      ],
      "execution_count": null,
      "outputs": [
        {
          "output_type": "stream",
          "text": [
            "{'aggregation_opt': {'and_func': <ufunc 'fmin'>, 'or_func': <ufunc 'fmax'>},\n",
            " 'defuzzify_method': 'bisector',\n",
            " 'epsilon': 0.0001,\n",
            " 'max': [array([0.455, 0.455, 0.455, 0.455, 0.446, 0.446]), array([0.446])],\n",
            " 'min': [array([0.359, 0.359, 0.359, 0.359, 0.359, 0.359]), array([0.359])],\n",
            " 'nb_inputs': 6,\n",
            " 'nb_outputs': 1,\n",
            " 'nb_sets': [[3, 3, 3, 3, 3, 3], [7]],\n",
            " 'resolution': 1000,\n",
            " 'shoulder': True}\n",
            "{'and_func': <ufunc 'fmin'>, 'or_func': <ufunc 'fmax'>}\n"
          ],
          "name": "stdout"
        }
      ]
    },
    {
      "cell_type": "code",
      "metadata": {
        "id": "Yt7ei6UWytt9",
        "colab": {
          "base_uri": "https://localhost:8080/"
        },
        "outputId": "b83e5163-8570-483a-8bdb-4ba5a291b687"
      },
      "source": [
        "type(config)"
      ],
      "execution_count": null,
      "outputs": [
        {
          "output_type": "execute_result",
          "data": {
            "text/plain": [
              "dict"
            ]
          },
          "metadata": {
            "tags": []
          },
          "execution_count": 169
        }
      ]
    },
    {
      "cell_type": "code",
      "metadata": {
        "scrolled": true,
        "id": "llTP4E34sN4H",
        "colab": {
          "base_uri": "https://localhost:8080/"
        },
        "outputId": "3b97b164-f7ec-4b5e-9121-d68a2b914436"
      },
      "source": [
        "antecedents = define_input_variables(config, shoulder=config['shoulder'])\n",
        "consequents = define_output_variables(config, shoulder=config['shoulder'], defuzzify_method=config['defuzzify_method'])\n",
        "print(antecedents)\n",
        "print(consequents)"
      ],
      "execution_count": null,
      "outputs": [
        {
          "output_type": "stream",
          "text": [
            "[Antecedent: I_1, Antecedent: I_2, Antecedent: I_3, Antecedent: I_4, Antecedent: I_5, Antecedent: I_6]\n",
            "[Consequent: O_1]\n"
          ],
          "name": "stdout"
        }
      ]
    },
    {
      "cell_type": "code",
      "metadata": {
        "id": "eY3-a42oG4BU",
        "colab": {
          "base_uri": "https://localhost:8080/",
          "height": 1000
        },
        "outputId": "0d8c5353-4809-4abf-f837-068311a5a9ca"
      },
      "source": [
        "for i in range(len(antecedents)):\n",
        "  antecedents[i].view()"
      ],
      "execution_count": null,
      "outputs": [
        {
          "output_type": "display_data",
          "data": {
            "image/png": "[encoded data removed]",
            "text/plain": [
              "<Figure size 432x288 with 1 Axes>"
            ]
          },
          "metadata": {
            "tags": [],
            "needs_background": "light"
          }
        },
        {
          "output_type": "display_data",
          "data": {
            "image/png": "[encoded data removed]",
            "text/plain": [
              "<Figure size 432x288 with 1 Axes>"
            ]
          },
          "metadata": {
            "tags": [],
            "needs_background": "light"
          }
        },
        {
          "output_type": "display_data",
          "data": {
            "image/png": "[encoded data removed]",
            "text/plain": [
              "<Figure size 432x288 with 1 Axes>"
            ]
          },
          "metadata": {
            "tags": [],
            "needs_background": "light"
          }
        },
        {
          "output_type": "display_data",
          "data": {
            "image/png": "[encoded data removed]",
            "text/plain": [
              "<Figure size 432x288 with 1 Axes>"
            ]
          },
          "metadata": {
            "tags": [],
            "needs_background": "light"
          }
        },
        {
          "output_type": "display_data",
          "data": {
            "image/png": "[encoded data removed]",
            "text/plain": [
              "<Figure size 432x288 with 1 Axes>"
            ]
          },
          "metadata": {
            "tags": [],
            "needs_background": "light"
          }
        },
        {
          "output_type": "display_data",
          "data": {
            "image/png": "[encoded data removed]",
            "text/plain": [
              "<Figure size 432x288 with 1 Axes>"
            ]
          },
          "metadata": {
            "tags": [],
            "needs_background": "light"
          }
        }
      ]
    },
    {
      "cell_type": "code",
      "metadata": {
        "id": "L_aIRrqXpkTa",
        "colab": {
          "base_uri": "https://localhost:8080/",
          "height": 282
        },
        "outputId": "0c188155-03f7-4681-8934-adddbbd9958f"
      },
      "source": [
        "for i in range(len(consequents)):\n",
        "  consequents[i].view()"
      ],
      "execution_count": null,
      "outputs": [
        {
          "output_type": "display_data",
          "data": {
            "image/png": "[encoded data removed]",
            "text/plain": [
              "<Figure size 432x288 with 1 Axes>"
            ]
          },
          "metadata": {
            "tags": [],
            "needs_background": "light"
          }
        }
      ]
    },
    {
      "cell_type": "code",
      "metadata": {
        "id": "QWXyZuUVL4fF",
        "colab": {
          "base_uri": "https://localhost:8080/",
          "height": 282
        },
        "outputId": "c30fbce9-1066-4278-bb76-3786a785f8e4"
      },
      "source": [
        "consequents[0]['s_2'].view()"
      ],
      "execution_count": null,
      "outputs": [
        {
          "output_type": "display_data",
          "data": {
            "image/png": "[encoded data removed]",
            "text/plain": [
              "<Figure size 432x288 with 1 Axes>"
            ]
          },
          "metadata": {
            "tags": [],
            "needs_background": "light"
          }
        }
      ]
    },
    {
      "cell_type": "code",
      "metadata": {
        "id": "6gXqRM3ZVtND",
        "colab": {
          "base_uri": "https://localhost:8080/"
        },
        "outputId": "49cf6a96-272b-463a-d994-dc76b8e83017"
      },
      "source": [
        "fuzz.interp_membership(antecedents[0].universe, antecedents[0]['s_1'].mf , .4)"
      ],
      "execution_count": null,
      "outputs": [
        {
          "output_type": "execute_result",
          "data": {
            "text/plain": [
              "0.29106029106029113"
            ]
          },
          "metadata": {
            "tags": []
          },
          "execution_count": 174
        }
      ]
    },
    {
      "cell_type": "code",
      "metadata": {
        "id": "ZyCq1wg9-3Jn"
      },
      "source": [
        "# variables\n",
        "# data = np.concatenate([X_train,y_train],axis=1)\n",
        "# data"
      ],
      "execution_count": null,
      "outputs": []
    },
    {
      "cell_type": "code",
      "metadata": {
        "id": "D_Um41rP_LC5"
      },
      "source": [
        "# for x,var in zip(data[0], variables):\n",
        "#   print((x, var.universe))"
      ],
      "execution_count": null,
      "outputs": []
    },
    {
      "cell_type": "code",
      "metadata": {
        "id": "U7aG4v0aL9IC"
      },
      "source": [
        "# variables = antecedents + consequents\n",
        "# data = np.concatenate([X_train,y_train],axis=1)\n",
        "#   # all_rule_candidate = []\n",
        "# for instance in data:\n",
        "#   #   rule_candidate = []\n",
        "#     for x,var in zip(instance,variables):\n",
        "#       print('x is {}'.format(x))\n",
        "#       print('var is {}'.format(var))\n",
        "#       print('var[terms] is {}'.format(var.terms))\n",
        "#       print('term is {}'.format)\n",
        "#       print('var.universe {}'.format(var.universe))\n",
        "#       #u_x_s = [fuzz.interp_membership(var.universe, var[term].mf, x)  for term in var.terms]\n",
        "#       u_x_s = [fuzz.interp_membership(var.universe, var[term].mf, .4)  for term in var.terms]\n",
        "#       # term_max = np.argmax(u_x_s)\n",
        "#       # print(term_max)\n",
        "# # fuzz.interp_membership(var.universe, antecedents[0]['s_1'].mf , .4)\n",
        "# # #antecedents[0]['s_1']\n",
        "# # print(len(var.universe))\n",
        "# # print(len(antecedents[0]['s_1'].mf))\n"
      ],
      "execution_count": null,
      "outputs": []
    },
    {
      "cell_type": "code",
      "metadata": {
        "id": "mitOVoPjsN4R",
        "colab": {
          "base_uri": "https://localhost:8080/"
        },
        "outputId": "884799a9-64eb-4e6f-f496-ce1d3ab1c70b"
      },
      "source": [
        "rules,df_rules = extract_rules(config, antecedents, consequents, X_train, y_train)\n",
        "print('number of rules:', len(df_rules))"
      ],
      "execution_count": null,
      "outputs": [
        {
          "output_type": "stream",
          "text": [
            "number of rules: 61\n"
          ],
          "name": "stdout"
        }
      ]
    },
    {
      "cell_type": "code",
      "metadata": {
        "id": "NB0NajAUsN4X",
        "colab": {
          "base_uri": "https://localhost:8080/",
          "height": 335
        },
        "outputId": "dd926813-e695-44b0-d1be-c5c20f3c85a1"
      },
      "source": [
        "df_rules.head(10)"
      ],
      "execution_count": null,
      "outputs": [
        {
          "output_type": "execute_result",
          "data": {
            "text/html": [
              "<div>\n",
              "<style scoped>\n",
              "    .dataframe tbody tr th:only-of-type {\n",
              "        vertical-align: middle;\n",
              "    }\n",
              "\n",
              "    .dataframe tbody tr th {\n",
              "        vertical-align: top;\n",
              "    }\n",
              "\n",
              "    .dataframe thead th {\n",
              "        text-align: right;\n",
              "    }\n",
              "</style>\n",
              "<table border=\"1\" class=\"dataframe\">\n",
              "  <thead>\n",
              "    <tr style=\"text-align: right;\">\n",
              "      <th></th>\n",
              "      <th>I_1</th>\n",
              "      <th>I_2</th>\n",
              "      <th>I_3</th>\n",
              "      <th>I_4</th>\n",
              "      <th>I_5</th>\n",
              "      <th>I_6</th>\n",
              "      <th>O_1</th>\n",
              "      <th>Dr</th>\n",
              "    </tr>\n",
              "  </thead>\n",
              "  <tbody>\n",
              "    <tr>\n",
              "      <th>0</th>\n",
              "      <td>s_1</td>\n",
              "      <td>s_1</td>\n",
              "      <td>s_1</td>\n",
              "      <td>s_1</td>\n",
              "      <td>s_1</td>\n",
              "      <td>s_2</td>\n",
              "      <td>s_4</td>\n",
              "      <td>0.473931</td>\n",
              "    </tr>\n",
              "    <tr>\n",
              "      <th>1</th>\n",
              "      <td>s_1</td>\n",
              "      <td>s_1</td>\n",
              "      <td>s_1</td>\n",
              "      <td>s_1</td>\n",
              "      <td>s_2</td>\n",
              "      <td>s_1</td>\n",
              "      <td>s_2</td>\n",
              "      <td>0.177278</td>\n",
              "    </tr>\n",
              "    <tr>\n",
              "      <th>2</th>\n",
              "      <td>s_1</td>\n",
              "      <td>s_1</td>\n",
              "      <td>s_1</td>\n",
              "      <td>s_1</td>\n",
              "      <td>s_2</td>\n",
              "      <td>s_2</td>\n",
              "      <td>s_5</td>\n",
              "      <td>0.471939</td>\n",
              "    </tr>\n",
              "    <tr>\n",
              "      <th>3</th>\n",
              "      <td>s_1</td>\n",
              "      <td>s_1</td>\n",
              "      <td>s_1</td>\n",
              "      <td>s_2</td>\n",
              "      <td>s_1</td>\n",
              "      <td>s_1</td>\n",
              "      <td>s_1</td>\n",
              "      <td>0.167740</td>\n",
              "    </tr>\n",
              "    <tr>\n",
              "      <th>4</th>\n",
              "      <td>s_1</td>\n",
              "      <td>s_1</td>\n",
              "      <td>s_1</td>\n",
              "      <td>s_2</td>\n",
              "      <td>s_2</td>\n",
              "      <td>s_2</td>\n",
              "      <td>s_5</td>\n",
              "      <td>0.127283</td>\n",
              "    </tr>\n",
              "    <tr>\n",
              "      <th>5</th>\n",
              "      <td>s_1</td>\n",
              "      <td>s_1</td>\n",
              "      <td>s_1</td>\n",
              "      <td>s_2</td>\n",
              "      <td>s_2</td>\n",
              "      <td>s_3</td>\n",
              "      <td>s_6</td>\n",
              "      <td>0.259808</td>\n",
              "    </tr>\n",
              "    <tr>\n",
              "      <th>6</th>\n",
              "      <td>s_1</td>\n",
              "      <td>s_1</td>\n",
              "      <td>s_2</td>\n",
              "      <td>s_1</td>\n",
              "      <td>s_1</td>\n",
              "      <td>s_1</td>\n",
              "      <td>s_1</td>\n",
              "      <td>0.196599</td>\n",
              "    </tr>\n",
              "    <tr>\n",
              "      <th>7</th>\n",
              "      <td>s_1</td>\n",
              "      <td>s_1</td>\n",
              "      <td>s_2</td>\n",
              "      <td>s_2</td>\n",
              "      <td>s_2</td>\n",
              "      <td>s_1</td>\n",
              "      <td>s_3</td>\n",
              "      <td>0.041275</td>\n",
              "    </tr>\n",
              "    <tr>\n",
              "      <th>8</th>\n",
              "      <td>s_1</td>\n",
              "      <td>s_1</td>\n",
              "      <td>s_2</td>\n",
              "      <td>s_2</td>\n",
              "      <td>s_2</td>\n",
              "      <td>s_2</td>\n",
              "      <td>s_4</td>\n",
              "      <td>0.176974</td>\n",
              "    </tr>\n",
              "    <tr>\n",
              "      <th>9</th>\n",
              "      <td>s_1</td>\n",
              "      <td>s_1</td>\n",
              "      <td>s_2</td>\n",
              "      <td>s_2</td>\n",
              "      <td>s_3</td>\n",
              "      <td>s_3</td>\n",
              "      <td>s_4</td>\n",
              "      <td>0.211981</td>\n",
              "    </tr>\n",
              "  </tbody>\n",
              "</table>\n",
              "</div>"
            ],
            "text/plain": [
              "   I_1  I_2  I_3  I_4  I_5  I_6  O_1        Dr\n",
              "0  s_1  s_1  s_1  s_1  s_1  s_2  s_4  0.473931\n",
              "1  s_1  s_1  s_1  s_1  s_2  s_1  s_2  0.177278\n",
              "2  s_1  s_1  s_1  s_1  s_2  s_2  s_5  0.471939\n",
              "3  s_1  s_1  s_1  s_2  s_1  s_1  s_1  0.167740\n",
              "4  s_1  s_1  s_1  s_2  s_2  s_2  s_5  0.127283\n",
              "5  s_1  s_1  s_1  s_2  s_2  s_3  s_6  0.259808\n",
              "6  s_1  s_1  s_2  s_1  s_1  s_1  s_1  0.196599\n",
              "7  s_1  s_1  s_2  s_2  s_2  s_1  s_3  0.041275\n",
              "8  s_1  s_1  s_2  s_2  s_2  s_2  s_4  0.176974\n",
              "9  s_1  s_1  s_2  s_2  s_3  s_3  s_4  0.211981"
            ]
          },
          "metadata": {
            "tags": []
          },
          "execution_count": 179
        }
      ]
    },
    {
      "cell_type": "code",
      "metadata": {
        "id": "Vv2SvhnusN4c",
        "colab": {
          "base_uri": "https://localhost:8080/"
        },
        "outputId": "ae754369-b502-4778-cde5-c844f70f68a7"
      },
      "source": [
        "%time system = ctrl.ControlSystem(rules)"
      ],
      "execution_count": null,
      "outputs": [
        {
          "output_type": "stream",
          "text": [
            "CPU times: user 2.24 s, sys: 16.8 ms, total: 2.25 s\n",
            "Wall time: 2.26 s\n"
          ],
          "name": "stdout"
        }
      ]
    },
    {
      "cell_type": "code",
      "metadata": {
        "id": "J6s3VZ0osN4g",
        "colab": {
          "base_uri": "https://localhost:8080/"
        },
        "outputId": "b6ed023b-bef5-4b19-b86a-981c467f5594"
      },
      "source": [
        "%time sim = ctrl.ControlSystemSimulation(system)"
      ],
      "execution_count": null,
      "outputs": [
        {
          "output_type": "stream",
          "text": [
            "CPU times: user 211 µs, sys: 12 µs, total: 223 µs\n",
            "Wall time: 245 µs\n"
          ],
          "name": "stdout"
        }
      ]
    },
    {
      "cell_type": "code",
      "metadata": {
        "id": "hrs-qI1lsN4j"
      },
      "source": [
        "def evaluate_model(sim, x_data, y_data, return_results=False):\n",
        "  y_prev = []\n",
        "  for x in x_data:\n",
        "      for i,x_i in enumerate(x,1):\n",
        "          sim.input['I_{}'.format(i)]=x_i\n",
        "      sim.compute()\n",
        "      result = sim.output['O_1']\n",
        "      y_prev.append(result)\n",
        "      \n",
        "  mse = mean_squared_error(y_data, y_prev)\n",
        "  \n",
        "  print('mean_squared_error: {}'.format(mse))\n",
        "\n",
        "  plt.figure(figsize=(15,5))\n",
        "  plt.plot(y_data,'*')\n",
        "  plt.plot(y_prev,'s')\n",
        "  plt.show()\n",
        "\n",
        "  y_data, y_prev = np.squeeze(np.array(y_data)), np.array(y_prev)\n",
        "  table_results = pd.DataFrame()\n",
        "  table_results['Real']=y_data\n",
        "  table_results['Predicted']=y_prev\n",
        "  table_results['Diference']=np.abs(y_data - y_prev) \n",
        "  table_results['Diference (%)']=np.abs((y_data - y_prev) / y_data)\n",
        "  if return_results:\n",
        "    return table_results"
      ],
      "execution_count": null,
      "outputs": []
    },
    {
      "cell_type": "code",
      "metadata": {
        "id": "3opHsn1wsR_6",
        "colab": {
          "base_uri": "https://localhost:8080/",
          "height": 336
        },
        "outputId": "d085fa11-b66e-4555-94d8-6c9583b46f8a"
      },
      "source": [
        "results=evaluate_model(sim, X, y_true, return_results=True)"
      ],
      "execution_count": null,
      "outputs": [
        {
          "output_type": "stream",
          "text": [
            "mean_squared_error: 5.507912612048953e-05\n"
          ],
          "name": "stdout"
        },
        {
          "output_type": "display_data",
          "data": {
            "image/png": "[encoded data removed]",
            "text/plain": [
              "<Figure size 1080x360 with 1 Axes>"
            ]
          },
          "metadata": {
            "tags": [],
            "needs_background": "light"
          }
        }
      ]
    },
    {
      "cell_type": "code",
      "metadata": {
        "id": "x3KrazqstAAw",
        "colab": {
          "base_uri": "https://localhost:8080/",
          "height": 191
        },
        "outputId": "91a4f194-64d4-49a6-8279-dbea469077a0"
      },
      "source": [
        "results.head()"
      ],
      "execution_count": null,
      "outputs": [
        {
          "output_type": "execute_result",
          "data": {
            "text/html": [
              "<div>\n",
              "<style scoped>\n",
              "    .dataframe tbody tr th:only-of-type {\n",
              "        vertical-align: middle;\n",
              "    }\n",
              "\n",
              "    .dataframe tbody tr th {\n",
              "        vertical-align: top;\n",
              "    }\n",
              "\n",
              "    .dataframe thead th {\n",
              "        text-align: right;\n",
              "    }\n",
              "</style>\n",
              "<table border=\"1\" class=\"dataframe\">\n",
              "  <thead>\n",
              "    <tr style=\"text-align: right;\">\n",
              "      <th></th>\n",
              "      <th>Real</th>\n",
              "      <th>Predicted</th>\n",
              "      <th>Diference</th>\n",
              "      <th>Diference (%)</th>\n",
              "    </tr>\n",
              "  </thead>\n",
              "  <tbody>\n",
              "    <tr>\n",
              "      <th>0</th>\n",
              "      <td>0.423</td>\n",
              "      <td>0.414394</td>\n",
              "      <td>0.008606</td>\n",
              "      <td>0.020345</td>\n",
              "    </tr>\n",
              "    <tr>\n",
              "      <th>1</th>\n",
              "      <td>0.412</td>\n",
              "      <td>0.413400</td>\n",
              "      <td>0.001400</td>\n",
              "      <td>0.003398</td>\n",
              "    </tr>\n",
              "    <tr>\n",
              "      <th>2</th>\n",
              "      <td>0.411</td>\n",
              "      <td>0.413976</td>\n",
              "      <td>0.002976</td>\n",
              "      <td>0.007241</td>\n",
              "    </tr>\n",
              "    <tr>\n",
              "      <th>3</th>\n",
              "      <td>0.426</td>\n",
              "      <td>0.423865</td>\n",
              "      <td>0.002135</td>\n",
              "      <td>0.005012</td>\n",
              "    </tr>\n",
              "    <tr>\n",
              "      <th>4</th>\n",
              "      <td>0.436</td>\n",
              "      <td>0.430868</td>\n",
              "      <td>0.005132</td>\n",
              "      <td>0.011772</td>\n",
              "    </tr>\n",
              "  </tbody>\n",
              "</table>\n",
              "</div>"
            ],
            "text/plain": [
              "    Real  Predicted  Diference  Diference (%)\n",
              "0  0.423   0.414394   0.008606       0.020345\n",
              "1  0.412   0.413400   0.001400       0.003398\n",
              "2  0.411   0.413976   0.002976       0.007241\n",
              "3  0.426   0.423865   0.002135       0.005012\n",
              "4  0.436   0.430868   0.005132       0.011772"
            ]
          },
          "metadata": {
            "tags": []
          },
          "execution_count": 184
        }
      ]
    },
    {
      "cell_type": "code",
      "metadata": {
        "id": "IKE7v1iisTk4",
        "colab": {
          "base_uri": "https://localhost:8080/",
          "height": 336
        },
        "outputId": "51878e54-7038-405e-c070-09fa815609ac"
      },
      "source": [
        "evaluate_model(sim, X_train, y_train)"
      ],
      "execution_count": null,
      "outputs": [
        {
          "output_type": "stream",
          "text": [
            "mean_squared_error: 5.796840992264687e-05\n"
          ],
          "name": "stdout"
        },
        {
          "output_type": "display_data",
          "data": {
            "image/png": "[encoded data removed]",
            "text/plain": [
              "<Figure size 1080x360 with 1 Axes>"
            ]
          },
          "metadata": {
            "tags": [],
            "needs_background": "light"
          }
        }
      ]
    },
    {
      "cell_type": "code",
      "metadata": {
        "id": "zoJDN89Q4JDo",
        "colab": {
          "base_uri": "https://localhost:8080/",
          "height": 338
        },
        "outputId": "f879930a-bc64-4534-eacd-76c8c279cadc"
      },
      "source": [
        "evaluate_model(sim, X_test, y_test)"
      ],
      "execution_count": null,
      "outputs": [
        {
          "output_type": "stream",
          "text": [
            "mean_squared_error: 4.376964380918792e-05\n"
          ],
          "name": "stdout"
        },
        {
          "output_type": "display_data",
          "data": {
            "image/png": "[encoded data removed]",
            "text/plain": [
              "<Figure size 1080x360 with 1 Axes>"
            ]
          },
          "metadata": {
            "tags": [],
            "needs_background": "light"
          }
        }
      ]
    },
    {
      "cell_type": "markdown",
      "metadata": {
        "id": "aY9W-OhsggfD"
      },
      "source": [
        "# Questão 1) \n",
        "Para a série acima, deseja-se realizar uma previsão de um passo a frente, por\n",
        "meio de um sistema de inferência fuzzy (SIF). Para tal, é necessário efetuar uma\n",
        "extração de regras a partir dos dados fornecidos utilizando o método de Wang &\n",
        "Mendel. Construa este SIF fazendo uso do aplicativo Fuzzy Rules ou da sua\n",
        "versão em Python. Em busca do melhor desempenho possível, realize\n",
        "alterações no número de conjuntos fuzzy, no tamanho da janela e nas operações\n",
        "de interseção dos antecedentes, implicação e defuzzificação."
      ]
    },
    {
      "cell_type": "markdown",
      "metadata": {
        "id": "AALJu1n3iMGV"
      },
      "source": [
        "Resposta: \n",
        "Foram realizadas várias tentativas variando os parâmetros do sistema Fuzzy. Os melhores resultados foram encontrados utilizando 3 conjuntos para as varíaveis de entrada e 7 para a de saída. Abaixo estão descritas as 3 melhores configurações. Sendo a **Test 3** a melhor delas."
      ]
    },
    {
      "cell_type": "markdown",
      "metadata": {
        "id": "lxPuXU4JgkRq"
      },
      "source": [
        "Test 1\n",
        "\n",
        "```\n",
        "{'aggregation_opt': {'and_func': <ufunc 'fmin'>, 'or_func': <ufunc 'fmax'>},\n",
        " 'defuzzify_method': 'mom',\n",
        " 'epsilon': 0.0001,\n",
        " 'max': [array([0.455, 0.455, 0.455, 0.455, 0.446, 0.446]), array([0.446])],\n",
        " 'min': [array([0.359, 0.359, 0.359, 0.359, 0.359, 0.359]), array([0.359])],\n",
        " 'nb_inputs': 6,\n",
        " 'nb_outputs': 1,\n",
        " 'nb_sets': [[3, 3, 3, 3, 3, 3], [7]],\n",
        " 'resolution': 1000,\n",
        " 'shoulder': True}\n",
        "{'and_func': <ufunc 'fmin'>, 'or_func': <ufunc 'fmax'>}\n",
        "```\n",
        "Result_train: 8.56939685890817e-05 <br>\n",
        "Result_test: mean_squared_error: 8.460339389600714e-05 <br>\n",
        "\n",
        "---\n",
        "\n",
        "Test 2\n",
        "\n",
        "```\n",
        "{'aggregation_opt': {'and_func': <ufunc 'fmin'>, 'or_func': <ufunc 'fmax'>},\n",
        " 'defuzzify_method': 'bisector',\n",
        " 'epsilon': 0.0001,\n",
        " 'max': [array([0.455, 0.455, 0.455, 0.455, 0.446, 0.446]), array([0.446])],\n",
        " 'min': [array([0.359, 0.359, 0.359, 0.359, 0.359, 0.359]), array([0.359])],\n",
        " 'nb_inputs': 6,\n",
        " 'nb_outputs': 1,\n",
        " 'nb_sets': [[3, 3, 3, 3, 3, 3], [7]],\n",
        " 'resolution': 1000,\n",
        " 'shoulder': True}\n",
        "{'and_func': <ufunc 'fmin'>, 'or_func': <ufunc 'fmax'>}\n",
        "```\n",
        "Result_train: 6.542768997016898e-05 <br>\n",
        "Result_test: mean_squared_error: 4.382474941088625e-05 <br>\n",
        "\n",
        "\n",
        "---\n",
        "\n",
        "**Test 3**\n",
        "\n",
        "```\n",
        "{'aggregation_opt': {'and_func': <ufunc 'fmin'>, 'or_func': <ufunc 'fmax'>},\n",
        " 'defuzzify_method': 'bisector',\n",
        " 'epsilon': 0.0001,\n",
        " 'max': [array([0.455, 0.455, 0.455, 0.455, 0.446, 0.446]), array([0.446])],\n",
        " 'min': [array([0.359, 0.359, 0.359, 0.359, 0.359, 0.359]), array([0.359])],\n",
        " 'nb_inputs': 6,\n",
        " 'nb_outputs': 1,\n",
        " 'nb_sets': [[3, 3, 3, 3, 3, 3], [7]],\n",
        " 'resolution': 1000,\n",
        " 'shoulder': True}\n",
        "{'and_func': <ufunc 'fmin'>, 'or_func': <ufunc 'fmax'>}\n",
        "```\n",
        "Result_train: 5.796840992264687e-05 <br>\n",
        "Result_test: mean_squared_error: 4.376964380918792e-05 <br>\n",
        "\n",
        "\n",
        "---"
      ]
    },
    {
      "cell_type": "markdown",
      "metadata": {
        "id": "gBgv7iHNjZPq"
      },
      "source": [
        "# Questão 2) \n",
        "Tomando por base a melhor configuração obtida em (1), realize um passo a\n",
        "passo manual do procedimento de extração de regras para os dez primeiros\n",
        "dados."
      ]
    },
    {
      "cell_type": "markdown",
      "metadata": {
        "id": "z4KQLULkT9QB"
      },
      "source": [
        "###Passo 1"
      ]
    },
    {
      "cell_type": "markdown",
      "metadata": {
        "id": "LHxRReBzUrfK"
      },
      "source": [
        "Neste primeiro passo todo o código será explorado em detalhes. Como foi solicitado que o procedimento fosse realizado de maneira manual, o notebook foi utilizado apenas como calculadora e entrega do trabalho. O código não foi otimizado."
      ]
    },
    {
      "cell_type": "code",
      "metadata": {
        "id": "WEaUjfwzzOOb",
        "colab": {
          "base_uri": "https://localhost:8080/"
        },
        "outputId": "008975de-4097-4fa2-b5f7-c285d58b9a00"
      },
      "source": [
        "data[:10]"
      ],
      "execution_count": null,
      "outputs": [
        {
          "output_type": "execute_result",
          "data": {
            "text/plain": [
              "array([[0.429],\n",
              "       [0.443],\n",
              "       [0.451],\n",
              "       [0.455],\n",
              "       [0.44 ],\n",
              "       [0.433],\n",
              "       [0.423],\n",
              "       [0.412],\n",
              "       [0.411],\n",
              "       [0.426]])"
            ]
          },
          "metadata": {
            "tags": []
          },
          "execution_count": 187
        }
      ]
    },
    {
      "cell_type": "code",
      "metadata": {
        "id": "RDVGcHAOn1vZ"
      },
      "source": [
        "# criando uma lista para gravar as maiores pertinências\n",
        "rule1_val = []\n",
        "rule1_set = []"
      ],
      "execution_count": null,
      "outputs": []
    },
    {
      "cell_type": "markdown",
      "metadata": {
        "id": "nayMYf-pmnlK"
      },
      "source": [
        "<center>\n",
        "\n",
        "**j = 0** <br>\n",
        "</center>\n",
        "<br>\n",
        "Janela posicionada do primeiro ao sexto elemento, o consequente está associado ao sétimo elemento."
      ]
    },
    {
      "cell_type": "markdown",
      "metadata": {
        "id": "Z6lkTuk9owcZ"
      },
      "source": [
        "Primeiro elemento"
      ]
    },
    {
      "cell_type": "markdown",
      "metadata": {
        "id": "jP1VkwLhVCqm"
      },
      "source": [
        "Plotando os conjunto Fuzzy da entrada 1"
      ]
    },
    {
      "cell_type": "code",
      "metadata": {
        "id": "bHnaohlFkqGv",
        "colab": {
          "base_uri": "https://localhost:8080/",
          "height": 282
        },
        "outputId": "65780287-ebf8-4b62-e987-6dc03f491180"
      },
      "source": [
        "# plotando os conjuntos para a primeira entrada\n",
        "antecedents[0].view()"
      ],
      "execution_count": null,
      "outputs": [
        {
          "output_type": "display_data",
          "data": {
            "image/png": "[encoded data removed]",
            "text/plain": [
              "<Figure size 432x288 with 1 Axes>"
            ]
          },
          "metadata": {
            "tags": [],
            "needs_background": "light"
          }
        }
      ]
    },
    {
      "cell_type": "code",
      "metadata": {
        "id": "YGAMpd7qUNlh"
      },
      "source": [
        "x1 = .429"
      ],
      "execution_count": null,
      "outputs": []
    },
    {
      "cell_type": "code",
      "metadata": {
        "id": "jw8gGoS6m8as"
      },
      "source": [
        "s1 = fuzz.interp_membership(antecedents[0].universe, antecedents[0]['s_1'].mf , x1)\n",
        "s2 = fuzz.interp_membership(antecedents[0].universe, antecedents[0]['s_2'].mf , x1)\n",
        "s3 = fuzz.interp_membership(antecedents[0].universe, antecedents[0]['s_3'].mf , x1)"
      ],
      "execution_count": null,
      "outputs": []
    },
    {
      "cell_type": "code",
      "metadata": {
        "id": "pLLuWZGpnPzv",
        "colab": {
          "base_uri": "https://localhost:8080/"
        },
        "outputId": "7b11a0ec-7582-4c48-b771-788237fdfe1d"
      },
      "source": [
        "# O conjunto que representar a maior pertinência será mantido\n",
        "print(s1, s2, s3)"
      ],
      "execution_count": null,
      "outputs": [
        {
          "output_type": "stream",
          "text": [
            "0.0 0.08523908523908522 0.914760914760915\n"
          ],
          "name": "stdout"
        }
      ]
    },
    {
      "cell_type": "code",
      "metadata": {
        "id": "QuswiMvGnR9Q",
        "colab": {
          "base_uri": "https://localhost:8080/"
        },
        "outputId": "7e915689-afb8-4ecf-8486-8cc4a3031371"
      },
      "source": [
        " rule1_val.append(s3)\n",
        " rule1_set.append(\"s3\")\n",
        " print(rule1_val)\n",
        " print(rule1_set)"
      ],
      "execution_count": null,
      "outputs": [
        {
          "output_type": "stream",
          "text": [
            "[0.914760914760915]\n",
            "['s3']\n"
          ],
          "name": "stdout"
        }
      ]
    },
    {
      "cell_type": "markdown",
      "metadata": {
        "id": "qvpBdlmOo8yY"
      },
      "source": [
        "Segundo elemento"
      ]
    },
    {
      "cell_type": "code",
      "metadata": {
        "id": "84LtS1PTon_l",
        "colab": {
          "base_uri": "https://localhost:8080/",
          "height": 282
        },
        "outputId": "1b88166b-9375-4501-9ec2-d8f89eaf9a00"
      },
      "source": [
        "antecedents[1].view()"
      ],
      "execution_count": null,
      "outputs": [
        {
          "output_type": "display_data",
          "data": {
            "image/png": "[encoded data removed]",
            "text/plain": [
              "<Figure size 432x288 with 1 Axes>"
            ]
          },
          "metadata": {
            "tags": [],
            "needs_background": "light"
          }
        }
      ]
    },
    {
      "cell_type": "code",
      "metadata": {
        "id": "wxuTOz2to7uo"
      },
      "source": [
        "x2 = .443"
      ],
      "execution_count": null,
      "outputs": []
    },
    {
      "cell_type": "code",
      "metadata": {
        "id": "G3Up3-UnpC6k",
        "colab": {
          "base_uri": "https://localhost:8080/"
        },
        "outputId": "1463a4aa-ae20-4a5c-e96c-22623d2d33ac"
      },
      "source": [
        "s1 = fuzz.interp_membership(antecedents[1].universe, antecedents[1]['s_1'].mf , x2)\n",
        "s2 = fuzz.interp_membership(antecedents[1].universe, antecedents[1]['s_2'].mf , x2)\n",
        "s3 = fuzz.interp_membership(antecedents[1].universe, antecedents[1]['s_3'].mf , x2)\n",
        "print(s1, s2, s3)"
      ],
      "execution_count": null,
      "outputs": [
        {
          "output_type": "stream",
          "text": [
            "0.0 0.0 1.0\n"
          ],
          "name": "stdout"
        }
      ]
    },
    {
      "cell_type": "code",
      "metadata": {
        "id": "BRdxtAtMpJrA"
      },
      "source": [
        "rule1_val.append(s3)\n",
        "rule1_set.append(\"s3\")"
      ],
      "execution_count": null,
      "outputs": []
    },
    {
      "cell_type": "markdown",
      "metadata": {
        "id": "Twcc1G4Zqv0A"
      },
      "source": [
        "Terceiro elemento"
      ]
    },
    {
      "cell_type": "code",
      "metadata": {
        "id": "4eBPsnlsq8di",
        "colab": {
          "base_uri": "https://localhost:8080/",
          "height": 282
        },
        "outputId": "b9464e63-565f-43c6-d773-84d5948e895f"
      },
      "source": [
        "antecedents[2].view()"
      ],
      "execution_count": null,
      "outputs": [
        {
          "output_type": "display_data",
          "data": {
            "image/png": "[encoded data removed]",
            "text/plain": [
              "<Figure size 432x288 with 1 Axes>"
            ]
          },
          "metadata": {
            "tags": [],
            "needs_background": "light"
          }
        }
      ]
    },
    {
      "cell_type": "code",
      "metadata": {
        "id": "_kuf85lBpR-s"
      },
      "source": [
        "x3 = .451"
      ],
      "execution_count": null,
      "outputs": []
    },
    {
      "cell_type": "code",
      "metadata": {
        "id": "FP13-BlUq1GD",
        "colab": {
          "base_uri": "https://localhost:8080/"
        },
        "outputId": "fc99ec20-2c18-4bfa-8a0c-112352a9bfcf"
      },
      "source": [
        "s1 = fuzz.interp_membership(antecedents[2].universe, antecedents[2]['s_1'].mf , x3)\n",
        "s2 = fuzz.interp_membership(antecedents[2].universe, antecedents[2]['s_2'].mf , x3)\n",
        "s3 = fuzz.interp_membership(antecedents[2].universe, antecedents[2]['s_3'].mf , x3)\n",
        "print(s1, s2, s3)"
      ],
      "execution_count": null,
      "outputs": [
        {
          "output_type": "stream",
          "text": [
            "0.0 0.0 1.0\n"
          ],
          "name": "stdout"
        }
      ]
    },
    {
      "cell_type": "code",
      "metadata": {
        "id": "bo34SL8Vq5l0"
      },
      "source": [
        "rule1_val.append(s3)\n",
        "rule1_set.append(\"s3\")"
      ],
      "execution_count": null,
      "outputs": []
    },
    {
      "cell_type": "markdown",
      "metadata": {
        "id": "G7RfsmHQrECJ"
      },
      "source": [
        "Quarto elemento"
      ]
    },
    {
      "cell_type": "code",
      "metadata": {
        "id": "ZvBRbJwtq7w8",
        "colab": {
          "base_uri": "https://localhost:8080/",
          "height": 282
        },
        "outputId": "1a7ef619-8d12-443b-fca6-ecff0515cb5f"
      },
      "source": [
        "antecedents[3].view()\n"
      ],
      "execution_count": null,
      "outputs": [
        {
          "output_type": "display_data",
          "data": {
            "image/png": "[encoded data removed]",
            "text/plain": [
              "<Figure size 432x288 with 1 Axes>"
            ]
          },
          "metadata": {
            "tags": [],
            "needs_background": "light"
          }
        }
      ]
    },
    {
      "cell_type": "code",
      "metadata": {
        "id": "Y06XRjs_rIes"
      },
      "source": [
        "x4 = .455"
      ],
      "execution_count": null,
      "outputs": []
    },
    {
      "cell_type": "code",
      "metadata": {
        "id": "8jf5PgD7rL4R",
        "colab": {
          "base_uri": "https://localhost:8080/"
        },
        "outputId": "3162f222-de7f-4271-ae19-066ec5571a3a"
      },
      "source": [
        "s1 = fuzz.interp_membership(antecedents[3].universe, antecedents[3]['s_1'].mf , x4)\n",
        "s2 = fuzz.interp_membership(antecedents[3].universe, antecedents[3]['s_2'].mf , x4)\n",
        "s3 = fuzz.interp_membership(antecedents[3].universe, antecedents[3]['s_3'].mf , x4)\n",
        "print(s1, s2, s3)"
      ],
      "execution_count": null,
      "outputs": [
        {
          "output_type": "stream",
          "text": [
            "0.0 0.0 1.0\n"
          ],
          "name": "stdout"
        }
      ]
    },
    {
      "cell_type": "code",
      "metadata": {
        "id": "Z775HsbPrR1c"
      },
      "source": [
        "rule1_val.append(s3)\n",
        "rule1_set.append(\"s3\")"
      ],
      "execution_count": null,
      "outputs": []
    },
    {
      "cell_type": "markdown",
      "metadata": {
        "id": "R0Mk2v-grWd7"
      },
      "source": [
        "Quinto elemento"
      ]
    },
    {
      "cell_type": "code",
      "metadata": {
        "id": "wRsApmjerV5x",
        "colab": {
          "base_uri": "https://localhost:8080/",
          "height": 282
        },
        "outputId": "15dc1f3d-3e65-4dc0-f34c-273a3e63e8a3"
      },
      "source": [
        "antecedents[4].view()"
      ],
      "execution_count": null,
      "outputs": [
        {
          "output_type": "display_data",
          "data": {
            "image/png": "[encoded data removed]",
            "text/plain": [
              "<Figure size 432x288 with 1 Axes>"
            ]
          },
          "metadata": {
            "tags": [],
            "needs_background": "light"
          }
        }
      ]
    },
    {
      "cell_type": "code",
      "metadata": {
        "id": "2KtTB0eyrbzM"
      },
      "source": [
        "x5 = .44"
      ],
      "execution_count": null,
      "outputs": []
    },
    {
      "cell_type": "code",
      "metadata": {
        "id": "Xi_wBjyErgv3",
        "colab": {
          "base_uri": "https://localhost:8080/"
        },
        "outputId": "19b78436-94e3-4067-8df1-7b7036720ac0"
      },
      "source": [
        "s1 = fuzz.interp_membership(antecedents[4].universe, antecedents[4]['s_1'].mf , x5)\n",
        "s2 = fuzz.interp_membership(antecedents[4].universe, antecedents[4]['s_2'].mf , x5)\n",
        "s3 = fuzz.interp_membership(antecedents[4].universe, antecedents[4]['s_3'].mf , x5)\n",
        "print(s1, s2, s3)"
      ],
      "execution_count": null,
      "outputs": [
        {
          "output_type": "stream",
          "text": [
            "0.0 0.0 1.0\n"
          ],
          "name": "stdout"
        }
      ]
    },
    {
      "cell_type": "code",
      "metadata": {
        "id": "o4C3QHIfrpE7"
      },
      "source": [
        "rule1_val.append(s3)\n",
        "rule1_set.append(\"s3\")"
      ],
      "execution_count": null,
      "outputs": []
    },
    {
      "cell_type": "markdown",
      "metadata": {
        "id": "gpCVXpHXrrpI"
      },
      "source": [
        "Sexto Elemento"
      ]
    },
    {
      "cell_type": "code",
      "metadata": {
        "id": "aT051LcIrq0z",
        "colab": {
          "base_uri": "https://localhost:8080/",
          "height": 282
        },
        "outputId": "893cd1cb-05f3-453a-f77c-19089b01ae39"
      },
      "source": [
        "antecedents[5].view()"
      ],
      "execution_count": null,
      "outputs": [
        {
          "output_type": "display_data",
          "data": {
            "image/png": "[encoded data removed]",
            "text/plain": [
              "<Figure size 432x288 with 1 Axes>"
            ]
          },
          "metadata": {
            "tags": [],
            "needs_background": "light"
          }
        }
      ]
    },
    {
      "cell_type": "code",
      "metadata": {
        "id": "easfc4pyruzz"
      },
      "source": [
        "x6 = .433"
      ],
      "execution_count": null,
      "outputs": []
    },
    {
      "cell_type": "code",
      "metadata": {
        "id": "V-O6Y8SZrzYD",
        "colab": {
          "base_uri": "https://localhost:8080/"
        },
        "outputId": "021a25f1-be27-4b1c-b68f-d99409ab4b9f"
      },
      "source": [
        "s1 = fuzz.interp_membership(antecedents[5].universe, antecedents[5]['s_1'].mf , x6)\n",
        "s2 = fuzz.interp_membership(antecedents[5].universe, antecedents[5]['s_2'].mf , x6)\n",
        "s3 = fuzz.interp_membership(antecedents[5].universe, antecedents[5]['s_3'].mf , x6)\n",
        "print(s1, s2, s3)"
      ],
      "execution_count": null,
      "outputs": [
        {
          "output_type": "stream",
          "text": [
            "0.0 0.0 1.0\n"
          ],
          "name": "stdout"
        }
      ]
    },
    {
      "cell_type": "code",
      "metadata": {
        "id": "e-pOF6DksLzI"
      },
      "source": [
        "rule1_val.append(s3)\n",
        "rule1_set.append(\"s3\")"
      ],
      "execution_count": null,
      "outputs": []
    },
    {
      "cell_type": "markdown",
      "metadata": {
        "id": "YaBMSp8gsdSi"
      },
      "source": [
        "Sétimo elemento (primeira saída)"
      ]
    },
    {
      "cell_type": "code",
      "metadata": {
        "id": "RVIyfySvsi9Z",
        "colab": {
          "base_uri": "https://localhost:8080/",
          "height": 282
        },
        "outputId": "5ebab26e-930f-41c1-b06a-3a437b591778"
      },
      "source": [
        "consequents[0].view()"
      ],
      "execution_count": null,
      "outputs": [
        {
          "output_type": "display_data",
          "data": {
            "image/png": "[encoded data removed]",
            "text/plain": [
              "<Figure size 432x288 with 1 Axes>"
            ]
          },
          "metadata": {
            "tags": [],
            "needs_background": "light"
          }
        }
      ]
    },
    {
      "cell_type": "code",
      "metadata": {
        "id": "3yp-JCm5sQL7"
      },
      "source": [
        "x7 = .423"
      ],
      "execution_count": null,
      "outputs": []
    },
    {
      "cell_type": "code",
      "metadata": {
        "id": "PtuZYaCmsuhH",
        "colab": {
          "base_uri": "https://localhost:8080/"
        },
        "outputId": "76980220-d1bf-46b4-8586-2339890922d3"
      },
      "source": [
        "s1 = fuzz.interp_membership(consequents[0].universe, consequents[0]['s_1'].mf ,x7)\n",
        "s2 = fuzz.interp_membership(consequents[0].universe, consequents[0]['s_2'].mf ,x7)\n",
        "s3 = fuzz.interp_membership(consequents[0].universe, consequents[0]['s_3'].mf ,x7)\n",
        "s4 = fuzz.interp_membership(consequents[0].universe, consequents[0]['s_4'].mf ,x7)\n",
        "s5 = fuzz.interp_membership(consequents[0].universe, consequents[0]['s_5'].mf ,x7)\n",
        "s6 = fuzz.interp_membership(consequents[0].universe, consequents[0]['s_6'].mf ,x7)\n",
        "s7 = fuzz.interp_membership(consequents[0].universe, consequents[0]['s_7'].mf ,x7)\n",
        "\n",
        "print(s1, s2, s3, s4, s5, s6, s7)"
      ],
      "execution_count": null,
      "outputs": [
        {
          "output_type": "stream",
          "text": [
            "0.0 0.0 0.0 0.0 0.11926605504587348 0.8807339449541265 0.0\n"
          ],
          "name": "stdout"
        }
      ]
    },
    {
      "cell_type": "code",
      "metadata": {
        "id": "4F9KSubMtPNo"
      },
      "source": [
        "rule1_val.append(s6)\n",
        "rule1_set.append(\"s6\")"
      ],
      "execution_count": null,
      "outputs": []
    },
    {
      "cell_type": "code",
      "metadata": {
        "id": "mhfD52j0toUA",
        "colab": {
          "base_uri": "https://localhost:8080/"
        },
        "outputId": "b1615e2f-d86a-4a2e-aa79-cbfcd1f37e47"
      },
      "source": [
        "print(rule1_val)\n",
        "print(rule1_set)"
      ],
      "execution_count": null,
      "outputs": [
        {
          "output_type": "stream",
          "text": [
            "[0.914760914760915, 1.0, 1.0, 1.0, 1.0, 1.0, 0.8807339449541265]\n",
            "['s3', 's3', 's3', 's3', 's3', 's3', 's6']\n"
          ],
          "name": "stdout"
        }
      ]
    },
    {
      "cell_type": "code",
      "metadata": {
        "id": "ZNxbFDTeuvaB",
        "colab": {
          "base_uri": "https://localhost:8080/"
        },
        "outputId": "5b80997b-aca0-486b-cdad-a73e24155375"
      },
      "source": [
        "''' \n",
        "Para obter o grau da regra basta multiplicar o grau de pertinência \n",
        "de cada termo do antecedente e consequente;\n",
        "'''\n",
        "Grau1 = np.prod(rule1_val)\n",
        "Grau1"
      ],
      "execution_count": null,
      "outputs": [
        {
          "output_type": "execute_result",
          "data": {
            "text/plain": [
              "0.8056609891472262"
            ]
          },
          "metadata": {
            "tags": []
          },
          "execution_count": 219
        }
      ]
    },
    {
      "cell_type": "code",
      "metadata": {
        "id": "7Nm3MGZOwOIF",
        "colab": {
          "base_uri": "https://localhost:8080/",
          "height": 248
        },
        "outputId": "541c2621-4a7d-4651-be02-ef1bb8756be1"
      },
      "source": [
        "df_rules.loc[df_rules[\"O_1\"]==\"s_6\"]"
      ],
      "execution_count": null,
      "outputs": [
        {
          "output_type": "execute_result",
          "data": {
            "text/html": [
              "<div>\n",
              "<style scoped>\n",
              "    .dataframe tbody tr th:only-of-type {\n",
              "        vertical-align: middle;\n",
              "    }\n",
              "\n",
              "    .dataframe tbody tr th {\n",
              "        vertical-align: top;\n",
              "    }\n",
              "\n",
              "    .dataframe thead th {\n",
              "        text-align: right;\n",
              "    }\n",
              "</style>\n",
              "<table border=\"1\" class=\"dataframe\">\n",
              "  <thead>\n",
              "    <tr style=\"text-align: right;\">\n",
              "      <th></th>\n",
              "      <th>I_1</th>\n",
              "      <th>I_2</th>\n",
              "      <th>I_3</th>\n",
              "      <th>I_4</th>\n",
              "      <th>I_5</th>\n",
              "      <th>I_6</th>\n",
              "      <th>O_1</th>\n",
              "      <th>Dr</th>\n",
              "    </tr>\n",
              "  </thead>\n",
              "  <tbody>\n",
              "    <tr>\n",
              "      <th>5</th>\n",
              "      <td>s_1</td>\n",
              "      <td>s_1</td>\n",
              "      <td>s_1</td>\n",
              "      <td>s_2</td>\n",
              "      <td>s_2</td>\n",
              "      <td>s_3</td>\n",
              "      <td>s_6</td>\n",
              "      <td>0.259808</td>\n",
              "    </tr>\n",
              "    <tr>\n",
              "      <th>17</th>\n",
              "      <td>s_1</td>\n",
              "      <td>s_2</td>\n",
              "      <td>s_2</td>\n",
              "      <td>s_2</td>\n",
              "      <td>s_3</td>\n",
              "      <td>s_3</td>\n",
              "      <td>s_6</td>\n",
              "      <td>0.226599</td>\n",
              "    </tr>\n",
              "    <tr>\n",
              "      <th>37</th>\n",
              "      <td>s_2</td>\n",
              "      <td>s_2</td>\n",
              "      <td>s_3</td>\n",
              "      <td>s_2</td>\n",
              "      <td>s_3</td>\n",
              "      <td>s_3</td>\n",
              "      <td>s_6</td>\n",
              "      <td>0.050193</td>\n",
              "    </tr>\n",
              "    <tr>\n",
              "      <th>40</th>\n",
              "      <td>s_2</td>\n",
              "      <td>s_3</td>\n",
              "      <td>s_2</td>\n",
              "      <td>s_2</td>\n",
              "      <td>s_2</td>\n",
              "      <td>s_3</td>\n",
              "      <td>s_6</td>\n",
              "      <td>0.049718</td>\n",
              "    </tr>\n",
              "    <tr>\n",
              "      <th>41</th>\n",
              "      <td>s_2</td>\n",
              "      <td>s_3</td>\n",
              "      <td>s_2</td>\n",
              "      <td>s_3</td>\n",
              "      <td>s_3</td>\n",
              "      <td>s_3</td>\n",
              "      <td>s_6</td>\n",
              "      <td>0.050751</td>\n",
              "    </tr>\n",
              "    <tr>\n",
              "      <th>54</th>\n",
              "      <td>s_3</td>\n",
              "      <td>s_3</td>\n",
              "      <td>s_2</td>\n",
              "      <td>s_3</td>\n",
              "      <td>s_3</td>\n",
              "      <td>s_3</td>\n",
              "      <td>s_6</td>\n",
              "      <td>0.167324</td>\n",
              "    </tr>\n",
              "    <tr>\n",
              "      <th>58</th>\n",
              "      <td>s_3</td>\n",
              "      <td>s_3</td>\n",
              "      <td>s_3</td>\n",
              "      <td>s_3</td>\n",
              "      <td>s_2</td>\n",
              "      <td>s_2</td>\n",
              "      <td>s_6</td>\n",
              "      <td>0.193290</td>\n",
              "    </tr>\n",
              "  </tbody>\n",
              "</table>\n",
              "</div>"
            ],
            "text/plain": [
              "    I_1  I_2  I_3  I_4  I_5  I_6  O_1        Dr\n",
              "5   s_1  s_1  s_1  s_2  s_2  s_3  s_6  0.259808\n",
              "17  s_1  s_2  s_2  s_2  s_3  s_3  s_6  0.226599\n",
              "37  s_2  s_2  s_3  s_2  s_3  s_3  s_6  0.050193\n",
              "40  s_2  s_3  s_2  s_2  s_2  s_3  s_6  0.049718\n",
              "41  s_2  s_3  s_2  s_3  s_3  s_3  s_6  0.050751\n",
              "54  s_3  s_3  s_2  s_3  s_3  s_3  s_6  0.167324\n",
              "58  s_3  s_3  s_3  s_3  s_2  s_2  s_6  0.193290"
            ]
          },
          "metadata": {
            "tags": []
          },
          "execution_count": 220
        }
      ]
    },
    {
      "cell_type": "markdown",
      "metadata": {
        "id": "gkxYqgfQHSPx"
      },
      "source": [
        "Esta regra não aparece no conjunto de regras. Provavelmente conflitou com outra regra que apresenta grau Dr maior."
      ]
    },
    {
      "cell_type": "markdown",
      "metadata": {
        "id": "6n0oBFr2UWqm"
      },
      "source": [
        "## Passo 2"
      ]
    },
    {
      "cell_type": "markdown",
      "metadata": {
        "id": "7YXbYIbJ4P7U"
      },
      "source": [
        "<center>\n",
        "\n",
        "**j = 1** <br>\n",
        "</center>\n",
        "<br>\n",
        "Janela posicionada do segundo ao setimo elemento, o consequente está associado ao oitavo elemento.\n",
        "\n"
      ]
    },
    {
      "cell_type": "code",
      "metadata": {
        "id": "9hdLoN-XwiLm"
      },
      "source": [
        "x1 = .443\n",
        "x2 = .451\n",
        "x3 = .455\n",
        "x4 = .44\n",
        "x5 = .433\n",
        "x6 = .423\n",
        "x7 = .412"
      ],
      "execution_count": null,
      "outputs": []
    },
    {
      "cell_type": "code",
      "metadata": {
        "id": "OcPdIylP5z7R"
      },
      "source": [
        "rule2_val = []\n",
        "rule2_set = []"
      ],
      "execution_count": null,
      "outputs": []
    },
    {
      "cell_type": "code",
      "metadata": {
        "id": "rY8zCHT25iYs",
        "colab": {
          "base_uri": "https://localhost:8080/"
        },
        "outputId": "74ce0fb9-1b79-42ff-9d57-a42022396222"
      },
      "source": [
        "s1 = fuzz.interp_membership(antecedents[0].universe, antecedents[0]['s_1'].mf , x1)\n",
        "s2 = fuzz.interp_membership(antecedents[0].universe, antecedents[0]['s_2'].mf , x1)\n",
        "s3 = fuzz.interp_membership(antecedents[0].universe, antecedents[0]['s_3'].mf , x1)\n",
        "print(s1, s2, s3)"
      ],
      "execution_count": null,
      "outputs": [
        {
          "output_type": "stream",
          "text": [
            "0.0 0.0 1.0\n"
          ],
          "name": "stdout"
        }
      ]
    },
    {
      "cell_type": "code",
      "metadata": {
        "id": "YSSDUxBU54Gb"
      },
      "source": [
        "rule2_val.append(s3)\n",
        "rule2_set.append(\"s3\")"
      ],
      "execution_count": null,
      "outputs": []
    },
    {
      "cell_type": "code",
      "metadata": {
        "id": "KzkuZKz67Oet",
        "colab": {
          "base_uri": "https://localhost:8080/"
        },
        "outputId": "659817fa-4420-4b85-b43c-860f69f9d6cc"
      },
      "source": [
        "s1 = fuzz.interp_membership(antecedents[1].universe, antecedents[1]['s_1'].mf , x2)\n",
        "s2 = fuzz.interp_membership(antecedents[1].universe, antecedents[1]['s_2'].mf , x2)\n",
        "s3 = fuzz.interp_membership(antecedents[1].universe, antecedents[1]['s_3'].mf , x2)\n",
        "print(s1, s2, s3)"
      ],
      "execution_count": null,
      "outputs": [
        {
          "output_type": "stream",
          "text": [
            "0.0 0.0 1.0\n"
          ],
          "name": "stdout"
        }
      ]
    },
    {
      "cell_type": "code",
      "metadata": {
        "id": "bZ8Eu_Nn7lVj"
      },
      "source": [
        "rule2_val.append(s3)\n",
        "rule2_set.append(\"s3\")"
      ],
      "execution_count": null,
      "outputs": []
    },
    {
      "cell_type": "code",
      "metadata": {
        "id": "5rT2Q9co8EWf",
        "colab": {
          "base_uri": "https://localhost:8080/"
        },
        "outputId": "bd521a93-5ab1-45a4-9ed7-293e0583df7b"
      },
      "source": [
        "s1 = fuzz.interp_membership(antecedents[2].universe, antecedents[2]['s_1'].mf , x3)\n",
        "s2 = fuzz.interp_membership(antecedents[2].universe, antecedents[2]['s_2'].mf , x3)\n",
        "s3 = fuzz.interp_membership(antecedents[2].universe, antecedents[2]['s_3'].mf , x3)\n",
        "print(s1, s2, s3)"
      ],
      "execution_count": null,
      "outputs": [
        {
          "output_type": "stream",
          "text": [
            "0.0 0.0 1.0\n"
          ],
          "name": "stdout"
        }
      ]
    },
    {
      "cell_type": "code",
      "metadata": {
        "id": "DOKRxoFj8JmW"
      },
      "source": [
        "rule2_val.append(s3)\n",
        "rule2_set.append(\"s3\")"
      ],
      "execution_count": null,
      "outputs": []
    },
    {
      "cell_type": "code",
      "metadata": {
        "id": "RTEljC_t78vb",
        "colab": {
          "base_uri": "https://localhost:8080/"
        },
        "outputId": "bb92388e-f560-4e44-a5f1-6921e30068a7"
      },
      "source": [
        "s1 = fuzz.interp_membership(antecedents[3].universe, antecedents[3]['s_1'].mf , x4)\n",
        "s2 = fuzz.interp_membership(antecedents[3].universe, antecedents[3]['s_2'].mf , x4)\n",
        "s3 = fuzz.interp_membership(antecedents[3].universe, antecedents[3]['s_3'].mf , x4)\n",
        "print(s1, s2, s3)"
      ],
      "execution_count": null,
      "outputs": [
        {
          "output_type": "stream",
          "text": [
            "0.0 0.0 1.0\n"
          ],
          "name": "stdout"
        }
      ]
    },
    {
      "cell_type": "code",
      "metadata": {
        "id": "RmyCPHFe8Lpv"
      },
      "source": [
        "rule2_val.append(s3)\n",
        "rule2_set.append(\"s3\")"
      ],
      "execution_count": null,
      "outputs": []
    },
    {
      "cell_type": "code",
      "metadata": {
        "id": "wl836PQC8NHv",
        "colab": {
          "base_uri": "https://localhost:8080/"
        },
        "outputId": "b81ac775-c27f-4f6d-ef4e-8ca47059bec8"
      },
      "source": [
        "s1 = fuzz.interp_membership(antecedents[4].universe, antecedents[4]['s_1'].mf , x5)\n",
        "s2 = fuzz.interp_membership(antecedents[4].universe, antecedents[4]['s_2'].mf , x5)\n",
        "s3 = fuzz.interp_membership(antecedents[4].universe, antecedents[4]['s_3'].mf , x5)\n",
        "print(s1, s2, s3)"
      ],
      "execution_count": null,
      "outputs": [
        {
          "output_type": "stream",
          "text": [
            "0.0 0.0 1.0\n"
          ],
          "name": "stdout"
        }
      ]
    },
    {
      "cell_type": "code",
      "metadata": {
        "id": "MQ3TfAFs8R4b"
      },
      "source": [
        "rule2_val.append(s3)\n",
        "rule2_set.append(\"s3\")"
      ],
      "execution_count": null,
      "outputs": []
    },
    {
      "cell_type": "code",
      "metadata": {
        "id": "D0ln-j2d8TOL",
        "colab": {
          "base_uri": "https://localhost:8080/"
        },
        "outputId": "1c520f79-0165-4524-bc6a-8bc45f0b96a8"
      },
      "source": [
        "s1 = fuzz.interp_membership(antecedents[5].universe, antecedents[5]['s_1'].mf , x6)\n",
        "s2 = fuzz.interp_membership(antecedents[5].universe, antecedents[5]['s_2'].mf , x6)\n",
        "s3 = fuzz.interp_membership(antecedents[5].universe, antecedents[5]['s_3'].mf , x6)\n",
        "print(s1, s2, s3)"
      ],
      "execution_count": null,
      "outputs": [
        {
          "output_type": "stream",
          "text": [
            "0.0 0.05963302752293674 0.9403669724770631\n"
          ],
          "name": "stdout"
        }
      ]
    },
    {
      "cell_type": "code",
      "metadata": {
        "id": "zEQf3Jmx8XfA"
      },
      "source": [
        "rule2_val.append(s3)\n",
        "rule2_set.append(\"s3\")"
      ],
      "execution_count": null,
      "outputs": []
    },
    {
      "cell_type": "code",
      "metadata": {
        "id": "Dj8FgqLD8ZKe",
        "colab": {
          "base_uri": "https://localhost:8080/"
        },
        "outputId": "b9551e82-0bfa-44f4-98ec-45c1c0f6e440"
      },
      "source": [
        "s1 = fuzz.interp_membership(consequents[0].universe, consequents[0]['s_1'].mf ,x7)\n",
        "s2 = fuzz.interp_membership(consequents[0].universe, consequents[0]['s_2'].mf ,x7)\n",
        "s3 = fuzz.interp_membership(consequents[0].universe, consequents[0]['s_3'].mf ,x7)\n",
        "s4 = fuzz.interp_membership(consequents[0].universe, consequents[0]['s_4'].mf ,x7)\n",
        "s5 = fuzz.interp_membership(consequents[0].universe, consequents[0]['s_5'].mf ,x7)\n",
        "s6 = fuzz.interp_membership(consequents[0].universe, consequents[0]['s_6'].mf ,x7)\n",
        "s7 = fuzz.interp_membership(consequents[0].universe, consequents[0]['s_7'].mf ,x7)\n",
        "\n",
        "print(s1, s2, s3, s4, s5, s6, s7)"
      ],
      "execution_count": null,
      "outputs": [
        {
          "output_type": "stream",
          "text": [
            "0.0 0.0 0.0 0.12844036697247796 0.871559633027522 0.0 0.0\n"
          ],
          "name": "stdout"
        }
      ]
    },
    {
      "cell_type": "code",
      "metadata": {
        "id": "ggjF_8Xq8beO"
      },
      "source": [
        "rule2_val.append(s5)\n",
        "rule2_set.append(\"s5\")"
      ],
      "execution_count": null,
      "outputs": []
    },
    {
      "cell_type": "code",
      "metadata": {
        "id": "Mp5NCka68h8i",
        "colab": {
          "base_uri": "https://localhost:8080/"
        },
        "outputId": "4343fdf8-1931-4920-90a1-0cf0c0928330"
      },
      "source": [
        "print(rule2_val)\n",
        "print(rule2_set)"
      ],
      "execution_count": null,
      "outputs": [
        {
          "output_type": "stream",
          "text": [
            "[1.0, 1.0, 1.0, 1.0, 1.0, 0.9403669724770631, 0.871559633027522]\n",
            "['s3', 's3', 's3', 's3', 's3', 's3', 's5']\n"
          ],
          "name": "stdout"
        }
      ]
    },
    {
      "cell_type": "code",
      "metadata": {
        "id": "-NMOk12B8mKF",
        "colab": {
          "base_uri": "https://localhost:8080/"
        },
        "outputId": "b7eba5c2-5ef1-4eb8-f155-6f02915e262a"
      },
      "source": [
        "grau2 = np.prod(rule2_val)\n",
        "grau2"
      ],
      "execution_count": null,
      "outputs": [
        {
          "output_type": "execute_result",
          "data": {
            "text/plain": [
              "0.819585893443311"
            ]
          },
          "metadata": {
            "tags": []
          },
          "execution_count": 238
        }
      ]
    },
    {
      "cell_type": "code",
      "metadata": {
        "id": "tccwSr6U8wWy",
        "colab": {
          "base_uri": "https://localhost:8080/",
          "height": 76
        },
        "outputId": "5d6a2e38-c3b8-4a9d-a5ef-08537a048580"
      },
      "source": [
        "df_rules.loc[df_rules[\"Dr\"]==grau2]"
      ],
      "execution_count": null,
      "outputs": [
        {
          "output_type": "execute_result",
          "data": {
            "text/html": [
              "<div>\n",
              "<style scoped>\n",
              "    .dataframe tbody tr th:only-of-type {\n",
              "        vertical-align: middle;\n",
              "    }\n",
              "\n",
              "    .dataframe tbody tr th {\n",
              "        vertical-align: top;\n",
              "    }\n",
              "\n",
              "    .dataframe thead th {\n",
              "        text-align: right;\n",
              "    }\n",
              "</style>\n",
              "<table border=\"1\" class=\"dataframe\">\n",
              "  <thead>\n",
              "    <tr style=\"text-align: right;\">\n",
              "      <th></th>\n",
              "      <th>I_1</th>\n",
              "      <th>I_2</th>\n",
              "      <th>I_3</th>\n",
              "      <th>I_4</th>\n",
              "      <th>I_5</th>\n",
              "      <th>I_6</th>\n",
              "      <th>O_1</th>\n",
              "      <th>Dr</th>\n",
              "    </tr>\n",
              "  </thead>\n",
              "  <tbody>\n",
              "    <tr>\n",
              "      <th>60</th>\n",
              "      <td>s_3</td>\n",
              "      <td>s_3</td>\n",
              "      <td>s_3</td>\n",
              "      <td>s_3</td>\n",
              "      <td>s_3</td>\n",
              "      <td>s_3</td>\n",
              "      <td>s_5</td>\n",
              "      <td>0.819586</td>\n",
              "    </tr>\n",
              "  </tbody>\n",
              "</table>\n",
              "</div>"
            ],
            "text/plain": [
              "    I_1  I_2  I_3  I_4  I_5  I_6  O_1        Dr\n",
              "60  s_3  s_3  s_3  s_3  s_3  s_3  s_5  0.819586"
            ]
          },
          "metadata": {
            "tags": []
          },
          "execution_count": 239
        }
      ]
    },
    {
      "cell_type": "markdown",
      "metadata": {
        "id": "vAxYAaXmHf2E"
      },
      "source": [
        "Esta regra conflitou com a primeira, como esta apresentou maior DR a mesma será mantida."
      ]
    },
    {
      "cell_type": "markdown",
      "metadata": {
        "id": "MDnY6umNUbVt"
      },
      "source": [
        "## Passo 3"
      ]
    },
    {
      "cell_type": "markdown",
      "metadata": {
        "id": "KcQjp3zHIUqk"
      },
      "source": [
        "<center>\n",
        "\n",
        "**j = 2** <br>\n",
        "</center> <br>\n",
        "Janela posicionada do terceiro ao oitavo elemento, o consequente está associado ao nono elemento.\n",
        "\n"
      ]
    },
    {
      "cell_type": "code",
      "metadata": {
        "id": "jQsgQAGYIrtm"
      },
      "source": [
        "x1 = .451\n",
        "x2 = .455\n",
        "x3 = .44\n",
        "x4 = .433\n",
        "x5 = .423\n",
        "x6 = .412\n",
        "x7 = .411"
      ],
      "execution_count": null,
      "outputs": []
    },
    {
      "cell_type": "code",
      "metadata": {
        "id": "16Nm8SulJF7o"
      },
      "source": [
        "rule3_val = []\n",
        "rule3_set = []"
      ],
      "execution_count": null,
      "outputs": []
    },
    {
      "cell_type": "code",
      "metadata": {
        "id": "v7T3wsiZI_ca",
        "colab": {
          "base_uri": "https://localhost:8080/"
        },
        "outputId": "d4b996e3-83be-4a3c-a447-67b9f4bfbaab"
      },
      "source": [
        "s1 = fuzz.interp_membership(antecedents[0].universe, antecedents[0]['s_1'].mf , x1)\n",
        "s2 = fuzz.interp_membership(antecedents[0].universe, antecedents[0]['s_2'].mf , x1)\n",
        "s3 = fuzz.interp_membership(antecedents[0].universe, antecedents[0]['s_3'].mf , x1)\n",
        "print(s1, s2, s3)"
      ],
      "execution_count": null,
      "outputs": [
        {
          "output_type": "stream",
          "text": [
            "0.0 0.0 1.0\n"
          ],
          "name": "stdout"
        }
      ]
    },
    {
      "cell_type": "code",
      "metadata": {
        "id": "EDzwb9VuJCXr"
      },
      "source": [
        "rule3_val.append(s3)\n",
        "rule3_set.append(\"s3\")"
      ],
      "execution_count": null,
      "outputs": []
    },
    {
      "cell_type": "code",
      "metadata": {
        "id": "lpmte7RkJP-A",
        "colab": {
          "base_uri": "https://localhost:8080/"
        },
        "outputId": "b5b2976f-5736-490b-8b19-7f2f6160e77b"
      },
      "source": [
        "s1 = fuzz.interp_membership(antecedents[1].universe, antecedents[1]['s_1'].mf , x2)\n",
        "s2 = fuzz.interp_membership(antecedents[1].universe, antecedents[1]['s_2'].mf , x2)\n",
        "s3 = fuzz.interp_membership(antecedents[1].universe, antecedents[1]['s_3'].mf , x2)\n",
        "print(s1, s2, s3)"
      ],
      "execution_count": null,
      "outputs": [
        {
          "output_type": "stream",
          "text": [
            "0.0 0.0 1.0\n"
          ],
          "name": "stdout"
        }
      ]
    },
    {
      "cell_type": "code",
      "metadata": {
        "id": "49MiSHrOJXHe"
      },
      "source": [
        "rule3_val.append(s3)\n",
        "rule3_set.append(\"s3\")"
      ],
      "execution_count": null,
      "outputs": []
    },
    {
      "cell_type": "code",
      "metadata": {
        "id": "Xhy_7hqLJZHg",
        "colab": {
          "base_uri": "https://localhost:8080/"
        },
        "outputId": "eddca29f-a6da-45ec-f844-81069393857c"
      },
      "source": [
        "s1 = fuzz.interp_membership(antecedents[2].universe, antecedents[2]['s_1'].mf , x3)\n",
        "s2 = fuzz.interp_membership(antecedents[2].universe, antecedents[2]['s_2'].mf , x3)\n",
        "s3 = fuzz.interp_membership(antecedents[2].universe, antecedents[2]['s_3'].mf , x3)\n",
        "print(s1, s2, s3)"
      ],
      "execution_count": null,
      "outputs": [
        {
          "output_type": "stream",
          "text": [
            "0.0 0.0 1.0\n"
          ],
          "name": "stdout"
        }
      ]
    },
    {
      "cell_type": "code",
      "metadata": {
        "id": "vwRzh2KBJo6I"
      },
      "source": [
        "rule3_val.append(s3)\n",
        "rule3_set.append(\"s3\")"
      ],
      "execution_count": null,
      "outputs": []
    },
    {
      "cell_type": "code",
      "metadata": {
        "id": "WYmjYTwjJrqf",
        "colab": {
          "base_uri": "https://localhost:8080/"
        },
        "outputId": "4326b5cc-5111-4ee9-a698-42f1b0818b91"
      },
      "source": [
        "s1 = fuzz.interp_membership(antecedents[3].universe, antecedents[3]['s_1'].mf , x4)\n",
        "s2 = fuzz.interp_membership(antecedents[3].universe, antecedents[3]['s_2'].mf , x4)\n",
        "s3 = fuzz.interp_membership(antecedents[3].universe, antecedents[3]['s_3'].mf , x4)\n",
        "print(s1, s2, s3)"
      ],
      "execution_count": null,
      "outputs": [
        {
          "output_type": "stream",
          "text": [
            "0.0 0.0 1.0\n"
          ],
          "name": "stdout"
        }
      ]
    },
    {
      "cell_type": "code",
      "metadata": {
        "id": "9HxDiX5oJwcL"
      },
      "source": [
        "rule3_val.append(s3)\n",
        "rule3_set.append(\"s3\")"
      ],
      "execution_count": null,
      "outputs": []
    },
    {
      "cell_type": "code",
      "metadata": {
        "id": "Jbp57utWJx3z",
        "colab": {
          "base_uri": "https://localhost:8080/"
        },
        "outputId": "7433a980-89e5-43f1-d3ee-655e2417c930"
      },
      "source": [
        "s1 = fuzz.interp_membership(antecedents[4].universe, antecedents[4]['s_1'].mf , x5)\n",
        "s2 = fuzz.interp_membership(antecedents[4].universe, antecedents[4]['s_2'].mf , x5)\n",
        "s3 = fuzz.interp_membership(antecedents[4].universe, antecedents[4]['s_3'].mf , x5)\n",
        "print(s1, s2, s3)"
      ],
      "execution_count": null,
      "outputs": [
        {
          "output_type": "stream",
          "text": [
            "0.0 0.05963302752293674 0.9403669724770631\n"
          ],
          "name": "stdout"
        }
      ]
    },
    {
      "cell_type": "code",
      "metadata": {
        "id": "2x7lwU8YJ1-n"
      },
      "source": [
        "rule3_val.append(s3)\n",
        "rule3_set.append(\"s3\")"
      ],
      "execution_count": null,
      "outputs": []
    },
    {
      "cell_type": "code",
      "metadata": {
        "id": "AfHtKLrdJ3_c",
        "colab": {
          "base_uri": "https://localhost:8080/"
        },
        "outputId": "0804fc3e-e423-4f28-abfe-fd6112bc0d0a"
      },
      "source": [
        "s1 = fuzz.interp_membership(antecedents[5].universe, antecedents[5]['s_1'].mf , x6)\n",
        "s2 = fuzz.interp_membership(antecedents[5].universe, antecedents[5]['s_2'].mf , x6)\n",
        "s3 = fuzz.interp_membership(antecedents[5].universe, antecedents[5]['s_3'].mf , x6)\n",
        "print(s1, s2, s3)"
      ],
      "execution_count": null,
      "outputs": [
        {
          "output_type": "stream",
          "text": [
            "0.0 0.564220183486239 0.4357798165137596\n"
          ],
          "name": "stdout"
        }
      ]
    },
    {
      "cell_type": "code",
      "metadata": {
        "id": "muZYBDURKBbC"
      },
      "source": [
        "rule3_val.append(s2)\n",
        "rule3_set.append(\"s2\")"
      ],
      "execution_count": null,
      "outputs": []
    },
    {
      "cell_type": "code",
      "metadata": {
        "id": "DHgz6UgxKEIa",
        "colab": {
          "base_uri": "https://localhost:8080/"
        },
        "outputId": "e833d3da-7d69-41ae-de8d-173c816c4819"
      },
      "source": [
        "s1 = fuzz.interp_membership(consequents[0].universe, consequents[0]['s_1'].mf ,x7)\n",
        "s2 = fuzz.interp_membership(consequents[0].universe, consequents[0]['s_2'].mf ,x7)\n",
        "s3 = fuzz.interp_membership(consequents[0].universe, consequents[0]['s_3'].mf ,x7)\n",
        "s4 = fuzz.interp_membership(consequents[0].universe, consequents[0]['s_4'].mf ,x7)\n",
        "s5 = fuzz.interp_membership(consequents[0].universe, consequents[0]['s_5'].mf ,x7)\n",
        "s6 = fuzz.interp_membership(consequents[0].universe, consequents[0]['s_6'].mf ,x7)\n",
        "s7 = fuzz.interp_membership(consequents[0].universe, consequents[0]['s_7'].mf ,x7)\n",
        "\n",
        "print(s1, s2, s3, s4, s5, s6, s7)"
      ],
      "execution_count": null,
      "outputs": [
        {
          "output_type": "stream",
          "text": [
            "0.0 0.0 0.0 0.2201834862385329 0.7798165137614671 0.0 0.0\n"
          ],
          "name": "stdout"
        }
      ]
    },
    {
      "cell_type": "code",
      "metadata": {
        "id": "k1T8PMUdKHuD"
      },
      "source": [
        "rule3_val.append(s5)\n",
        "rule3_set.append(\"s5\")"
      ],
      "execution_count": null,
      "outputs": []
    },
    {
      "cell_type": "code",
      "metadata": {
        "id": "_h83eSC_KRtK",
        "colab": {
          "base_uri": "https://localhost:8080/"
        },
        "outputId": "5bd511ba-efe2-49c4-ec08-2ca41181f227"
      },
      "source": [
        "print(rule2_val)\n",
        "print(rule2_set)"
      ],
      "execution_count": null,
      "outputs": [
        {
          "output_type": "stream",
          "text": [
            "[1.0, 1.0, 1.0, 1.0, 1.0, 0.9403669724770631, 0.871559633027522]\n",
            "['s3', 's3', 's3', 's3', 's3', 's3', 's5']\n"
          ],
          "name": "stdout"
        }
      ]
    },
    {
      "cell_type": "code",
      "metadata": {
        "id": "JhMV9XV-KeYH",
        "colab": {
          "base_uri": "https://localhost:8080/"
        },
        "outputId": "f13c4dfd-06e7-4f8b-f5e2-f89ab6f7a113"
      },
      "source": [
        "grau3 = np.prod(rule3_val)\n",
        "grau3"
      ],
      "execution_count": null,
      "outputs": [
        {
          "output_type": "execute_result",
          "data": {
            "text/plain": [
              "0.41375038705696887"
            ]
          },
          "metadata": {
            "tags": []
          },
          "execution_count": 257
        }
      ]
    },
    {
      "cell_type": "markdown",
      "metadata": {
        "id": "P5JQD_VdK2p-"
      },
      "source": [
        "Esta regra conflita com outro que possui grau maior, dessa forma a mesma será eliminada."
      ]
    },
    {
      "cell_type": "markdown",
      "metadata": {
        "id": "E5MTiXL2UhGg"
      },
      "source": [
        "## Passo 4"
      ]
    },
    {
      "cell_type": "markdown",
      "metadata": {
        "id": "sEv4G7WALDwR"
      },
      "source": [
        "<center>\n",
        "\n",
        "**j = 3** <br>\n",
        "</center>\n",
        "<br>\n",
        "Janela posicionada do quarto ao nono elemento, o consequênte está associado ao décimo elemento.\n"
      ]
    },
    {
      "cell_type": "code",
      "metadata": {
        "id": "HgGoTA9NKoqa"
      },
      "source": [
        "x1 = .455\n",
        "x2 = .44\n",
        "x3 = .433\n",
        "x4 = .423\n",
        "x5 = .412\n",
        "x6 = .411\n",
        "x7 = .426"
      ],
      "execution_count": null,
      "outputs": []
    },
    {
      "cell_type": "code",
      "metadata": {
        "id": "_7uOyi0hLxXu"
      },
      "source": [
        "rule4_val=[]\n",
        "rule4_set=[]"
      ],
      "execution_count": null,
      "outputs": []
    },
    {
      "cell_type": "code",
      "metadata": {
        "id": "K-LP1YffLqcN",
        "colab": {
          "base_uri": "https://localhost:8080/"
        },
        "outputId": "3a0a8597-24d0-41bf-e929-08eff74e1225"
      },
      "source": [
        "s1 = fuzz.interp_membership(antecedents[0].universe, antecedents[0]['s_1'].mf , x1)\n",
        "s2 = fuzz.interp_membership(antecedents[0].universe, antecedents[0]['s_2'].mf , x1)\n",
        "s3 = fuzz.interp_membership(antecedents[0].universe, antecedents[0]['s_3'].mf , x1)\n",
        "print(s1, s2, s3)"
      ],
      "execution_count": null,
      "outputs": [
        {
          "output_type": "stream",
          "text": [
            "0.0 0.0 1.0\n"
          ],
          "name": "stdout"
        }
      ]
    },
    {
      "cell_type": "code",
      "metadata": {
        "id": "LF183fBtLqcT"
      },
      "source": [
        "rule4_val.append(s3)\n",
        "rule4_set.append(\"s3\")"
      ],
      "execution_count": null,
      "outputs": []
    },
    {
      "cell_type": "code",
      "metadata": {
        "id": "p3XbLw1GLqcZ",
        "colab": {
          "base_uri": "https://localhost:8080/"
        },
        "outputId": "c3519816-7e58-4068-c7c3-1c5dad25d710"
      },
      "source": [
        "s1 = fuzz.interp_membership(antecedents[1].universe, antecedents[1]['s_1'].mf , x2)\n",
        "s2 = fuzz.interp_membership(antecedents[1].universe, antecedents[1]['s_2'].mf , x2)\n",
        "s3 = fuzz.interp_membership(antecedents[1].universe, antecedents[1]['s_3'].mf , x2)\n",
        "print(s1, s2, s3)"
      ],
      "execution_count": null,
      "outputs": [
        {
          "output_type": "stream",
          "text": [
            "0.0 0.0 1.0\n"
          ],
          "name": "stdout"
        }
      ]
    },
    {
      "cell_type": "code",
      "metadata": {
        "id": "Do6CmGogLqcs"
      },
      "source": [
        "rule4_val.append(s3)\n",
        "rule4_set.append(\"s3\")"
      ],
      "execution_count": null,
      "outputs": []
    },
    {
      "cell_type": "code",
      "metadata": {
        "id": "dXpLvrXdLqcz",
        "colab": {
          "base_uri": "https://localhost:8080/"
        },
        "outputId": "7fb950ea-606e-4e69-c693-668ff7b3e4b9"
      },
      "source": [
        "s1 = fuzz.interp_membership(antecedents[2].universe, antecedents[2]['s_1'].mf , x3)\n",
        "s2 = fuzz.interp_membership(antecedents[2].universe, antecedents[2]['s_2'].mf , x3)\n",
        "s3 = fuzz.interp_membership(antecedents[2].universe, antecedents[2]['s_3'].mf , x3)\n",
        "print(s1, s2, s3)"
      ],
      "execution_count": null,
      "outputs": [
        {
          "output_type": "stream",
          "text": [
            "0.0 0.0 1.0\n"
          ],
          "name": "stdout"
        }
      ]
    },
    {
      "cell_type": "code",
      "metadata": {
        "id": "uS1WHoQ-LqdC"
      },
      "source": [
        "rule4_val.append(s3)\n",
        "rule4_set.append(\"s3\")"
      ],
      "execution_count": null,
      "outputs": []
    },
    {
      "cell_type": "code",
      "metadata": {
        "id": "GeamrzxkLqdG",
        "colab": {
          "base_uri": "https://localhost:8080/"
        },
        "outputId": "11694a66-a4ba-466f-fa68-fb16081e03f7"
      },
      "source": [
        "s1 = fuzz.interp_membership(antecedents[3].universe, antecedents[3]['s_1'].mf , x4)\n",
        "s2 = fuzz.interp_membership(antecedents[3].universe, antecedents[3]['s_2'].mf , x4)\n",
        "s3 = fuzz.interp_membership(antecedents[3].universe, antecedents[3]['s_3'].mf , x4)\n",
        "print(s1, s2, s3)"
      ],
      "execution_count": null,
      "outputs": [
        {
          "output_type": "stream",
          "text": [
            "0.0 0.33471933471933535 0.6652806652806654\n"
          ],
          "name": "stdout"
        }
      ]
    },
    {
      "cell_type": "code",
      "metadata": {
        "id": "7pU5p6h4LqdK"
      },
      "source": [
        "rule4_val.append(s3)\n",
        "rule4_set.append(\"s3\")"
      ],
      "execution_count": null,
      "outputs": []
    },
    {
      "cell_type": "code",
      "metadata": {
        "id": "WtACUznuLqdO",
        "colab": {
          "base_uri": "https://localhost:8080/"
        },
        "outputId": "3c5d862c-8a77-40df-b122-36ea94fd16e9"
      },
      "source": [
        "s1 = fuzz.interp_membership(antecedents[4].universe, antecedents[4]['s_1'].mf , x5)\n",
        "s2 = fuzz.interp_membership(antecedents[4].universe, antecedents[4]['s_2'].mf , x5)\n",
        "s3 = fuzz.interp_membership(antecedents[4].universe, antecedents[4]['s_3'].mf , x5)\n",
        "print(s1, s2, s3)"
      ],
      "execution_count": null,
      "outputs": [
        {
          "output_type": "stream",
          "text": [
            "0.0 0.564220183486239 0.4357798165137596\n"
          ],
          "name": "stdout"
        }
      ]
    },
    {
      "cell_type": "code",
      "metadata": {
        "id": "dR3uL0T-LqdQ"
      },
      "source": [
        "rule4_val.append(s2)\n",
        "rule4_set.append(\"s2\")"
      ],
      "execution_count": null,
      "outputs": []
    },
    {
      "cell_type": "code",
      "metadata": {
        "id": "YbMUbBq2LqdT",
        "colab": {
          "base_uri": "https://localhost:8080/"
        },
        "outputId": "359b4b31-e99c-4c69-94ec-acb2a59f5e1d"
      },
      "source": [
        "s1 = fuzz.interp_membership(antecedents[5].universe, antecedents[5]['s_1'].mf , x6)\n",
        "s2 = fuzz.interp_membership(antecedents[5].universe, antecedents[5]['s_2'].mf , x6)\n",
        "s3 = fuzz.interp_membership(antecedents[5].universe, antecedents[5]['s_3'].mf , x6)\n",
        "print(s1, s2, s3)"
      ],
      "execution_count": null,
      "outputs": [
        {
          "output_type": "stream",
          "text": [
            "0.0 0.6100917431192664 0.389908256880732\n"
          ],
          "name": "stdout"
        }
      ]
    },
    {
      "cell_type": "code",
      "metadata": {
        "id": "4VywAf0ILqdY"
      },
      "source": [
        "rule4_val.append(s2)\n",
        "rule4_set.append(\"s2\")"
      ],
      "execution_count": null,
      "outputs": []
    },
    {
      "cell_type": "code",
      "metadata": {
        "id": "W700CFYrLqdc",
        "colab": {
          "base_uri": "https://localhost:8080/"
        },
        "outputId": "e7f21c68-af8c-48bd-9894-605e64f310d2"
      },
      "source": [
        "s1 = fuzz.interp_membership(consequents[0].universe, consequents[0]['s_1'].mf ,x7)\n",
        "s2 = fuzz.interp_membership(consequents[0].universe, consequents[0]['s_2'].mf ,x7)\n",
        "s3 = fuzz.interp_membership(consequents[0].universe, consequents[0]['s_3'].mf ,x7)\n",
        "s4 = fuzz.interp_membership(consequents[0].universe, consequents[0]['s_4'].mf ,x7)\n",
        "s5 = fuzz.interp_membership(consequents[0].universe, consequents[0]['s_5'].mf ,x7)\n",
        "s6 = fuzz.interp_membership(consequents[0].universe, consequents[0]['s_6'].mf ,x7)\n",
        "s7 = fuzz.interp_membership(consequents[0].universe, consequents[0]['s_7'].mf ,x7)\n",
        "\n",
        "print(s1, s2, s3, s4, s5, s6, s7)"
      ],
      "execution_count": null,
      "outputs": [
        {
          "output_type": "stream",
          "text": [
            "0.0 0.0 0.0 0.0 0.0 0.8440366972477086 0.1559633027522914\n"
          ],
          "name": "stdout"
        }
      ]
    },
    {
      "cell_type": "code",
      "metadata": {
        "id": "SM0vPMtTLqdf"
      },
      "source": [
        "rule4_val.append(s6)\n",
        "rule4_set.append(\"s6\")"
      ],
      "execution_count": null,
      "outputs": []
    },
    {
      "cell_type": "code",
      "metadata": {
        "id": "Khy29vq_Lqdj",
        "colab": {
          "base_uri": "https://localhost:8080/"
        },
        "outputId": "6ad1de64-d579-4285-8c8e-cb50070cefdf"
      },
      "source": [
        "print(rule4_val)\n",
        "print(rule4_set)"
      ],
      "execution_count": null,
      "outputs": [
        {
          "output_type": "stream",
          "text": [
            "[1.0, 1.0, 1.0, 0.6652806652806654, 0.564220183486239, 0.6100917431192664, 0.8440366972477086]\n",
            "['s3', 's3', 's3', 's3', 's2', 's2', 's6']\n"
          ],
          "name": "stdout"
        }
      ]
    },
    {
      "cell_type": "code",
      "metadata": {
        "id": "aGwmLD5zLqdo",
        "colab": {
          "base_uri": "https://localhost:8080/"
        },
        "outputId": "f27f7573-7e38-4222-ddae-8df7c68f7927"
      },
      "source": [
        "grau4 = np.prod(rule4_val)\n",
        "grau4"
      ],
      "execution_count": null,
      "outputs": [
        {
          "output_type": "execute_result",
          "data": {
            "text/plain": [
              "0.19329027170550492"
            ]
          },
          "metadata": {
            "tags": []
          },
          "execution_count": 275
        }
      ]
    },
    {
      "cell_type": "code",
      "metadata": {
        "id": "4R8U8P99MKjb",
        "colab": {
          "base_uri": "https://localhost:8080/",
          "height": 76
        },
        "outputId": "91c575e7-4fb5-4788-936a-bdef48a80272"
      },
      "source": [
        "df_rules.loc[df_rules[\"Dr\"]==grau4]"
      ],
      "execution_count": null,
      "outputs": [
        {
          "output_type": "execute_result",
          "data": {
            "text/html": [
              "<div>\n",
              "<style scoped>\n",
              "    .dataframe tbody tr th:only-of-type {\n",
              "        vertical-align: middle;\n",
              "    }\n",
              "\n",
              "    .dataframe tbody tr th {\n",
              "        vertical-align: top;\n",
              "    }\n",
              "\n",
              "    .dataframe thead th {\n",
              "        text-align: right;\n",
              "    }\n",
              "</style>\n",
              "<table border=\"1\" class=\"dataframe\">\n",
              "  <thead>\n",
              "    <tr style=\"text-align: right;\">\n",
              "      <th></th>\n",
              "      <th>I_1</th>\n",
              "      <th>I_2</th>\n",
              "      <th>I_3</th>\n",
              "      <th>I_4</th>\n",
              "      <th>I_5</th>\n",
              "      <th>I_6</th>\n",
              "      <th>O_1</th>\n",
              "      <th>Dr</th>\n",
              "    </tr>\n",
              "  </thead>\n",
              "  <tbody>\n",
              "    <tr>\n",
              "      <th>58</th>\n",
              "      <td>s_3</td>\n",
              "      <td>s_3</td>\n",
              "      <td>s_3</td>\n",
              "      <td>s_3</td>\n",
              "      <td>s_2</td>\n",
              "      <td>s_2</td>\n",
              "      <td>s_6</td>\n",
              "      <td>0.19329</td>\n",
              "    </tr>\n",
              "  </tbody>\n",
              "</table>\n",
              "</div>"
            ],
            "text/plain": [
              "    I_1  I_2  I_3  I_4  I_5  I_6  O_1       Dr\n",
              "58  s_3  s_3  s_3  s_3  s_2  s_2  s_6  0.19329"
            ]
          },
          "metadata": {
            "tags": []
          },
          "execution_count": 276
        }
      ]
    },
    {
      "cell_type": "code",
      "metadata": {
        "id": "dOFyjKQ5P1yU",
        "colab": {
          "base_uri": "https://localhost:8080/",
          "height": 76
        },
        "outputId": "a7e2e5f6-0f4e-4396-d95e-b9bc382d7879"
      },
      "source": [
        "df_rules.loc[(df_rules[\"I_1\"]==\"s_3\")&(df_rules[\"I_2\"]==\"s_3\")&(df_rules[\"I_3\"]==\"s_3\")&\n",
        "             (df_rules[\"I_4\"]==\"s_3\")&(df_rules[\"I_5\"]==\"s_2\")&(df_rules[\"I_6\"]==\"s_2\")]"
      ],
      "execution_count": null,
      "outputs": [
        {
          "output_type": "execute_result",
          "data": {
            "text/html": [
              "<div>\n",
              "<style scoped>\n",
              "    .dataframe tbody tr th:only-of-type {\n",
              "        vertical-align: middle;\n",
              "    }\n",
              "\n",
              "    .dataframe tbody tr th {\n",
              "        vertical-align: top;\n",
              "    }\n",
              "\n",
              "    .dataframe thead th {\n",
              "        text-align: right;\n",
              "    }\n",
              "</style>\n",
              "<table border=\"1\" class=\"dataframe\">\n",
              "  <thead>\n",
              "    <tr style=\"text-align: right;\">\n",
              "      <th></th>\n",
              "      <th>I_1</th>\n",
              "      <th>I_2</th>\n",
              "      <th>I_3</th>\n",
              "      <th>I_4</th>\n",
              "      <th>I_5</th>\n",
              "      <th>I_6</th>\n",
              "      <th>O_1</th>\n",
              "      <th>Dr</th>\n",
              "    </tr>\n",
              "  </thead>\n",
              "  <tbody>\n",
              "    <tr>\n",
              "      <th>58</th>\n",
              "      <td>s_3</td>\n",
              "      <td>s_3</td>\n",
              "      <td>s_3</td>\n",
              "      <td>s_3</td>\n",
              "      <td>s_2</td>\n",
              "      <td>s_2</td>\n",
              "      <td>s_6</td>\n",
              "      <td>0.19329</td>\n",
              "    </tr>\n",
              "  </tbody>\n",
              "</table>\n",
              "</div>"
            ],
            "text/plain": [
              "    I_1  I_2  I_3  I_4  I_5  I_6  O_1       Dr\n",
              "58  s_3  s_3  s_3  s_3  s_2  s_2  s_6  0.19329"
            ]
          },
          "metadata": {
            "tags": []
          },
          "execution_count": 277
        }
      ]
    },
    {
      "cell_type": "markdown",
      "metadata": {
        "id": "C-sZ7GvBTFB7"
      },
      "source": [
        "Não há conlfito com nenhuma outra regra. Esta regra está mantida até este passo."
      ]
    },
    {
      "cell_type": "markdown",
      "metadata": {
        "id": "KqmfQztVX3fH"
      },
      "source": [
        "Desta forma foi realizada a extração de regras dos dez primeiros dados, sendo possível entender o mecanismo de extração de regras proposto por Mendel e Wang."
      ]
    },
    {
      "cell_type": "code",
      "metadata": {
        "id": "NHkyVsaOYG8K"
      },
      "source": [
        ""
      ],
      "execution_count": null,
      "outputs": []
    }
  ]
}