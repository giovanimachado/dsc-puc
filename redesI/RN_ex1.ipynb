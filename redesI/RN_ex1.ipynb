{
 "cells": [
  {
   "cell_type": "markdown",
   "metadata": {},
   "source": [
    "# Prática I - Redes Neurais usando Python"
   ]
  },
  {
   "cell_type": "markdown",
   "metadata": {},
   "source": [
    "## Parte 1 - Construindo uma rede do zero\n",
    "\n",
    "Redes Neurais constituem uma das técnicas mais populares de Inteligência Computacional. Por mais que esta técnica tenha um potencial para mapeamento de diversos problemas, o conceito básico sobre o seu funcionamento não é impossível de ser entendido.\n",
    "\n",
    "Nesta primeira parte prática, iremos construir uma Rede Neural do zero. Para uma forma didática, a primeira etapa vai abordar os principais aspectos de Redes Neurais. \n",
    "\n",
    "Resolva primeiro a parte teórica do item para resolver em seguida a parte prática.\n"
   ]
  },
  {
   "cell_type": "markdown",
   "metadata": {},
   "source": [
    "O esqueleto do modelo de Rede Neural já está pronto. Para uma melhor comodidade, o script já possui os métodos essenciais para o funcionamento, mas os códigos ainda não estão implementados. O objetivo deste trabalho é desenvolver o conhecimento teórico e prático sobre redes neurais, entendendo mais a fundo as suas operações."
   ]
  },
  {
   "cell_type": "code",
   "execution_count": 63,
   "metadata": {},
   "outputs": [],
   "source": [
    "import numpy as np\n",
    "import matplotlib.pyplot as plt"
   ]
  },
  {
   "cell_type": "code",
   "execution_count": 64,
   "metadata": {},
   "outputs": [],
   "source": [
    "def transform(x,y):\n",
    "    return x**2 + y**2"
   ]
  },
  {
   "cell_type": "code",
   "execution_count": 82,
   "metadata": {},
   "outputs": [
    {
     "name": "stderr",
     "output_type": "stream",
     "text": [
      "Python 3.6.13 :: Anaconda, Inc.\n"
     ]
    }
   ],
   "source": [
    "!python --version"
   ]
  },
  {
   "cell_type": "code",
   "execution_count": null,
   "metadata": {},
   "outputs": [],
   "source": []
  },
  {
   "cell_type": "code",
   "execution_count": 97,
   "metadata": {},
   "outputs": [],
   "source": [
    "class NeuralNetwork():\n",
    "    def __init__(self,nin,nout,hidden_neurons=[2],hidden_layers=1,activation=['relu']):\n",
    "        '''\n",
    "        Classe para a implementação do algoritmo de Redes Neurais para a atividade prática da disciplina Inteligência Computacional Aplicada - PUC-Rio\n",
    "        \n",
    "        Variáveis de entrada:\n",
    "        nin - Quantidade de entradas da Rede (int)\n",
    "        nout - Quantidade de neurônios na saída da Rede (int)\n",
    "        hidden_neurons - Quantidade de neurônios na camada escondida. Deve ser uma lista de inteiros positivos.\n",
    "        hidden_layers - Quantidade de camadas escondidas. (int)\n",
    "        activation - Função de ativação para cada uma das camadas. Deve ser uma lista de strings.\n",
    "        \n",
    "        '''\n",
    "        \n",
    "        #Entrada do modelo\n",
    "        self.input = nin \n",
    "        #Saída do modelo\n",
    "        self.output = nout \n",
    "        #Lista de neurônios. Começa a contagem da entrada do modelo.\n",
    "        self.hn = [nin] + hidden_neurons \n",
    "        \n",
    "        self.hl = hidden_layers\n",
    "\n",
    "        #Dicionário com todas as possíveis funções de ativação. Caso construa alguma outra, adicione a esta lista.\n",
    "        self.possible_activations = {'relu':self.relu, 'tanh':np.tanh, 'sigmoid':self.sigmoid}\n",
    "\n",
    "        #Inicialização dos pesos ao criar o novo objeto\n",
    "        self.initialize_weights(activation)\n",
    "\n",
    "\n",
    "\n",
    "\n",
    "    def initialize_weights(self,activation):\n",
    "\n",
    "        #Matriz de pesos \n",
    "        self.weights = dict()\n",
    "        #Vetor de bias\n",
    "        self.bias = dict()\n",
    "\n",
    "        #Erros\n",
    "        self.weights_error = dict()\n",
    "        self.bias_error = dict()\n",
    "\n",
    "        #Ativacao do neuronio\n",
    "        self.neuron_out = dict()\n",
    "        \n",
    "        \n",
    "        self.neuron_net = dict()\n",
    "\n",
    "        self.activation = dict()\n",
    "\n",
    "\n",
    "\n",
    "\n",
    "        for i in range(self.hl):\n",
    "            name = f'hidden{i}'\n",
    "\n",
    "            self.weights[name] = np.random.rand(self.hn[i+1], self.hn[i])*2 - 1.0\n",
    "            self.bias[name] = np.zeros((self.hn[i+1],1))\n",
    "\n",
    "            self.weights_error[name] = np.zeros((self.hn[i+1], self.hn[i]))\n",
    "            self.bias_error[name] = np.zeros((self.hn[i+1],1))\n",
    "\n",
    "            self.activation[name] = self.possible_activations[activation[i]]\n",
    "\n",
    "            self.neuron_out[name] = np.zeros((self.hn[i+1],1))\n",
    "            self.neuron_net[name] = np.zeros((self.hn[i], 1))\n",
    "\n",
    "\n",
    "        self.weights['output'] = np.random.rand(self.output, self.hn[-1])*2 - 1.0\n",
    "        self.bias['output'] = np.zeros((self.output, 1))\n",
    "\n",
    "        self.weights_error['output'] = np.zeros((self.output, self.hn[-1]))\n",
    "        self.bias_error['output'] = np.zeros((self.output,1))\n",
    "\n",
    "        self.activation['output'] = self.possible_activations[activation[-1]]\n",
    "\n",
    "        self.neuron_out['output'] = np.zeros((self.output,1))\n",
    "\n",
    "        self.neuron_net['output'] = np.zeros((self.hn[-1],1))\n",
    "\n",
    "    def insert_layers(self,weights=[],bias=[]):\n",
    "        '''\n",
    "        Função para inserção manual dos pesos. \n",
    "        '''\n",
    "        self.weights = weights\n",
    "        self.bias = bias \n",
    "\n",
    "    def neuron_process(self,x=[],weights=[],bias=[]):\n",
    "        '''\n",
    "        Função para regra de propagação\n",
    "        '''\n",
    "        net = np.dot(weights,x) + bias\n",
    "        return net\n",
    "\n",
    "\n",
    "    def forward(self,x):\n",
    "        '''\n",
    "        Função para etapa feedforward\n",
    "\n",
    "        '''\n",
    "        input_values = x\n",
    "        for layer in self.weights:\n",
    "            \n",
    "            #Entrada da camada\n",
    "            self.neuron_net[layer] = np.copy(input_values)\n",
    "            \n",
    "            #'Processamento' (XW + bias) -> net\n",
    "            net = self.neuron_process(x=input_values, weights = self.weights[layer], bias=self.bias[layer])\n",
    "            \n",
    "            #f(net)\n",
    "            self.neuron_out[layer] = self.activation[layer](net)\n",
    "            \n",
    "            #f(net)\n",
    "            input_values = self.activation[layer](net)\n",
    "                      \n",
    "        return self.activation['output'](net)\n",
    "\n",
    "\n",
    "    def backward(self,lr,y):\n",
    "        '''\n",
    "        Função para a etapa feedback\n",
    "        '''\n",
    "        #for k in reversed(list(d.keys())): \n",
    " \n",
    "        #for layer in reversed(self.weights):\n",
    "        for layer in reversed(list(self.weights.keys())):\n",
    "        \n",
    "\n",
    "            if layer == 'output':\n",
    "                \n",
    "                #Saida (sj - tj) -> Saída com função de ativação LINEAR (f(net) = net)\n",
    "                dZ2 = (y - self.neuron_out[layer])\n",
    "                \n",
    "                dW2 = np.dot(dZ2, self.neuron_net[layer].T)\n",
    "                \n",
    "                db2 = np.sum(dZ2, axis=1, keepdims=True)\n",
    "                \n",
    "                self.weights_error[layer] = lr * dW2 \n",
    "                \n",
    "                self.bias_error[layer] = lr * db2 \n",
    "                \n",
    "                prev_weights = self.weights[layer]\n",
    "            else:\n",
    "                \n",
    "                #derivada da função tanh\n",
    "                f_prime_net = 1-np.power(self.neuron_out[layer], 2)\n",
    "                \n",
    "                #erro_k = (e_j*W_k,j ) * F'(net)\n",
    "                dZ1 = np.multiply(np.dot(prev_weights.T, dZ2), 1-np.power(self.neuron_out[layer], 2))\n",
    "                \n",
    "                #Para a matriz de pesos\n",
    "                dW1 = np.dot(dZ1, self.neuron_net[layer].T)\n",
    "                #Para o bias\n",
    "                db1 = np.sum(dZ1, axis=1, keepdims=True)\n",
    "                #Para acumular futuramente os erros (multiplica pela taxa de aprendizado)\n",
    "                self.weights_error[layer] = lr * dW1 \n",
    "                #Para acumular futuramente os erros (multiplica pela taxa de aprendizado)\n",
    "                self.bias_error[layer] = lr * db1 \n",
    "\n",
    "                \n",
    "                prev_weights = self.weights[layer]\n",
    "                dZ2 = np.copy(dZ1)\n",
    "            \n",
    "\n",
    "    def update_weights(self):\n",
    "        '''\n",
    "        Função para atualização dos pesos\n",
    "        #NOTE\n",
    "        Etapa 5\n",
    "        '''\n",
    "        for layer in self.weights:\n",
    "\n",
    "            assert(self.weights[layer].shape == self.weights_error[layer].shape), f\"Dimension mismatch: {self.weights[layer].shape} and {self.weights_error[layer].shape}\"\n",
    "            self.weights[layer] = self.weights[layer] + self.weights_error[layer]\n",
    "\n",
    "            assert(self.bias[layer].shape == self.bias_error[layer].shape), f\"Dimension mismatch: {self.bias[layer].shape} and {self.bias_error[layer].shape}\"\n",
    "            self.bias[layer] = self.bias[layer] + self.bias_error[layer]\n",
    "            self.weights_error[layer] = np.zeros(self.weights_error[layer].shape)\n",
    "            self.bias_error[layer] = np.zeros(self.bias_error[layer].shape)\n",
    "\n",
    "    def train(self,x,y,epochs=100,lr=0.5):\n",
    "        '''\n",
    "        Função para treinamento da rede\n",
    "        # NOTE\n",
    "        Etapa 6\n",
    "        '''\n",
    "        for epoch in range(epochs):\n",
    "            \n",
    "            #Fazendo uso de uma notação matricial \n",
    "            out = self.forward(x)\n",
    "            self.backward(lr,y)\n",
    "            self.update_weights()\n",
    "\n",
    "\n",
    "    @staticmethod\n",
    "    def sigmoid(x):\n",
    "        '''\n",
    "        Definição da função sigmoide. Retorna o valor 1/(1 + e^(-x))\n",
    "        '''\n",
    "        value_sig = 1/(1+np.exp(-x))\n",
    "        return value_sig\n",
    "\n",
    "    \n",
    "    def sigmoid_derivative(self,value):\n",
    "        '''\n",
    "        ???\n",
    "        '''\n",
    "        return self.sigmoid(value)*(1-self.sigmoid(value))\n",
    "\n",
    "    @staticmethod\n",
    "    def relu(x):\n",
    "        return np.maximum(np.zeros(x.shape),x)\n",
    "\n",
    "    @staticmethod \n",
    "    def relu_derivative(x):\n",
    "        return np.ones(x.shape)"
   ]
  },
  {
   "cell_type": "markdown",
   "metadata": {},
   "source": [
    "### Questão 1\n",
    "O neurônio é a unidade básica de uma Rede Neural. Na primeira etapa, desenvolva dentro da função **neuron_process** para o cálculo de processamento do neurônio. Não esqueça que a função recebe como argumento a matriz de pesos **weights**, a entrada **x** e o bias **bias**.\n",
    "\n",
    "Ao terminar de implementar a função, valide seu código com os testes abaixo. **Não** prossiga para o próximo item enquanto houver erro no resultado."
   ]
  },
  {
   "cell_type": "code",
   "execution_count": 98,
   "metadata": {},
   "outputs": [],
   "source": [
    "nn_test = NeuralNetwork(2,1,hidden_layers=1,hidden_neurons=[4],activation=['tanh','sigmoid'])"
   ]
  },
  {
   "cell_type": "code",
   "execution_count": 99,
   "metadata": {},
   "outputs": [
    {
     "data": {
      "text/plain": [
       "array([[1.43813902],\n",
       "       [1.67767442]])"
      ]
     },
     "execution_count": 99,
     "metadata": {},
     "output_type": "execute_result"
    }
   ],
   "source": [
    "x = np.array([[0],[0]])\n",
    "weights = np.array([[ 3.14708825, -3.02515284],[-3.48236268,  3.60001384]])\n",
    "bias = np.array([[1.43813902],[1.67767442]])\n",
    "\n",
    "nn_test.neuron_process(x=x,weights=weights,bias=bias)"
   ]
  },
  {
   "cell_type": "code",
   "execution_count": 100,
   "metadata": {},
   "outputs": [],
   "source": [
    "x = np.array([[0],[0]])\n",
    "weights = np.array([[ 3.14708825, -3.02515284],[-3.48236268,  3.60001384]])\n",
    "bias = np.array([[1.43813902],[1.67767442]])"
   ]
  },
  {
   "cell_type": "code",
   "execution_count": 101,
   "metadata": {},
   "outputs": [],
   "source": [
    "net = np.dot(weights,x) + bias"
   ]
  },
  {
   "cell_type": "code",
   "execution_count": 102,
   "metadata": {},
   "outputs": [
    {
     "data": {
      "text/plain": [
       "{'hidden0': array([[-0.44856107,  0.75055633],\n",
       "        [ 0.913044  ,  0.5763518 ],\n",
       "        [-0.43666625, -0.56939572],\n",
       "        [ 0.3798815 , -0.96454559]]),\n",
       " 'output': array([[ 0.01287125,  0.43593215, -0.05442243, -0.71970278]])}"
      ]
     },
     "execution_count": 102,
     "metadata": {},
     "output_type": "execute_result"
    }
   ],
   "source": [
    "nn_test.weights"
   ]
  },
  {
   "cell_type": "markdown",
   "metadata": {},
   "source": [
    "### Questão 2\n",
    "Com a código de processamento do neurônio já criado, é preciso desenvolver um método para a função de ativação não-linear. \n",
    "Desenvolva a equação que representa a ativação sigmoide e sua respectiva derivada. Para validar o funcionamento, além de realizar os testes padrões estipulados abaixo, verifique graficamente se as funções estão de acordo com o esperado."
   ]
  },
  {
   "cell_type": "code",
   "execution_count": 103,
   "metadata": {},
   "outputs": [
    {
     "data": {
      "text/plain": [
       "array([[1.43813902],\n",
       "       [1.67767442]])"
      ]
     },
     "execution_count": 103,
     "metadata": {},
     "output_type": "execute_result"
    }
   ],
   "source": [
    "net"
   ]
  },
  {
   "cell_type": "code",
   "execution_count": 104,
   "metadata": {},
   "outputs": [],
   "source": [
    "def sigmoid(x):\n",
    "    return 1/(1+np.exp(-x))"
   ]
  },
  {
   "cell_type": "code",
   "execution_count": 105,
   "metadata": {},
   "outputs": [
    {
     "data": {
      "text/plain": [
       "array([[0.8081663 ],\n",
       "       [0.84259634]])"
      ]
     },
     "execution_count": 105,
     "metadata": {},
     "output_type": "execute_result"
    }
   ],
   "source": [
    "sigmoid(net)"
   ]
  },
  {
   "cell_type": "code",
   "execution_count": null,
   "metadata": {},
   "outputs": [],
   "source": []
  },
  {
   "cell_type": "code",
   "execution_count": 106,
   "metadata": {},
   "outputs": [],
   "source": [
    "t = np.linspace(-10,10,100)"
   ]
  },
  {
   "cell_type": "code",
   "execution_count": 107,
   "metadata": {},
   "outputs": [
    {
     "data": {
      "text/plain": [
       "Text(0, 0.5, 'sigm(x)')"
      ]
     },
     "execution_count": 107,
     "metadata": {},
     "output_type": "execute_result"
    },
    {
     "data": {
      "image/png": "[encoded data removed]",
      "text/plain": [
       "<Figure size 432x288 with 1 Axes>"
      ]
     },
     "metadata": {
      "needs_background": "light"
     },
     "output_type": "display_data"
    }
   ],
   "source": [
    "plt.plot(t,nn_test.sigmoid(t),linewidth=2,color='g')\n",
    "plt.title('Função sigmoide')\n",
    "plt.xlabel('x')\n",
    "plt.ylabel('sigm(x)')"
   ]
  },
  {
   "cell_type": "markdown",
   "metadata": {},
   "source": [
    "### Etapa III - Feedforward"
   ]
  },
  {
   "cell_type": "code",
   "execution_count": null,
   "metadata": {},
   "outputs": [],
   "source": []
  },
  {
   "cell_type": "markdown",
   "metadata": {},
   "source": [
    "### Etapa IV - Retropropagação dos erros"
   ]
  },
  {
   "cell_type": "code",
   "execution_count": null,
   "metadata": {},
   "outputs": [],
   "source": []
  },
  {
   "cell_type": "markdown",
   "metadata": {},
   "source": [
    "### Etapa V - Atualização dos pesos"
   ]
  },
  {
   "cell_type": "code",
   "execution_count": null,
   "metadata": {},
   "outputs": [],
   "source": []
  },
  {
   "cell_type": "code",
   "execution_count": 108,
   "metadata": {},
   "outputs": [],
   "source": [
    "# def relu(x):\n",
    "#     return np.maximum(np.zeros(x.shape),x)"
   ]
  },
  {
   "cell_type": "code",
   "execution_count": 109,
   "metadata": {},
   "outputs": [],
   "source": [
    "# x = np.array([[-5],[5]])\n",
    "# relu(x)"
   ]
  },
  {
   "cell_type": "markdown",
   "metadata": {},
   "source": [
    "### Etapa VI - Treinamento do modelo"
   ]
  },
  {
   "cell_type": "code",
   "execution_count": 110,
   "metadata": {},
   "outputs": [],
   "source": [
    "X = np.array([[0, 0, 1, 1], [0, 1, 0, 1]])\n",
    "Y = np.array([[0, 1, 1, 0]])\n",
    "\n",
    "#X = np.array([[0,0],[0,1],[1,0],[1,1]])\n",
    "#Y = np.array([[0],[1],[1],[0]])\n",
    "\n",
    "nn_test.train(X,Y,epochs=15,lr=0.2)"
   ]
  },
  {
   "cell_type": "markdown",
   "metadata": {},
   "source": [
    "### Etapa VII - Generalização"
   ]
  },
  {
   "cell_type": "code",
   "execution_count": 111,
   "metadata": {},
   "outputs": [
    {
     "name": "stdout",
     "output_type": "stream",
     "text": [
      "[[0.37955677]]\n",
      "[[0.56067145]]\n",
      "[[0.51987131]]\n",
      "[[0.52993415]]\n"
     ]
    }
   ],
   "source": [
    "X_test = np.array([[0],[0]])\n",
    "print(nn_test.forward(X_test))\n",
    "\n",
    "X_test = np.array([[0],[1]])\n",
    "print(nn_test.forward(X_test))\n",
    "\n",
    "X_test = np.array([[1],[0]])\n",
    "print(nn_test.forward(X_test))\n",
    "\n",
    "X_test = np.array([[1],[1]])\n",
    "print(nn_test.forward(X_test))"
   ]
  },
  {
   "cell_type": "code",
   "execution_count": 112,
   "metadata": {},
   "outputs": [
    {
     "data": {
      "text/plain": [
       "{'hidden0': array([[ 0.10771644],\n",
       "        [-0.01351666],\n",
       "        [-0.00061761],\n",
       "        [ 0.47245401]]),\n",
       " 'output': array([[-0.16700559]])}"
      ]
     },
     "execution_count": 112,
     "metadata": {},
     "output_type": "execute_result"
    }
   ],
   "source": [
    "nn_test.bias"
   ]
  },
  {
   "cell_type": "code",
   "execution_count": 113,
   "metadata": {},
   "outputs": [],
   "source": [
    "manual_weights = dict()\n",
    "manual_bias = dict()\n",
    "manual_weights['hidden0'] = np.array([[ 3.14708825, -3.02515284],\n",
    "        [-3.48236268,  3.60001384]])\n",
    "manual_weights['output'] = np.array([[-5.07678577, -5.01607987]])\n",
    "\n",
    "manual_bias['hidden0'] = np.array([[1.43813902],\n",
    "        [1.67767442]])\n",
    "manual_bias['output'] = np.array([[4.49745273]])\n",
    "\n",
    "nn_test.insert_layers(weights=manual_weights,bias=manual_bias)"
   ]
  },
  {
   "cell_type": "code",
   "execution_count": 58,
   "metadata": {},
   "outputs": [
    {
     "data": {
      "text/plain": [
       "{'hidden0': array([[ 3.14708825, -3.02515284],\n",
       "        [-3.48236268,  3.60001384]]),\n",
       " 'output': array([[-5.07678577, -5.01607987]])}"
      ]
     },
     "execution_count": 58,
     "metadata": {},
     "output_type": "execute_result"
    }
   ],
   "source": [
    "nn_test.weights"
   ]
  },
  {
   "cell_type": "code",
   "execution_count": 59,
   "metadata": {},
   "outputs": [
    {
     "data": {
      "text/plain": [
       "{'hidden0': array([[ 0.02685013],\n",
       "        [-0.09506326],\n",
       "        [-0.74429866],\n",
       "        [-0.7904864 ]]),\n",
       " 'output': array([[0.29383826]])}"
      ]
     },
     "execution_count": 59,
     "metadata": {},
     "output_type": "execute_result"
    }
   ],
   "source": [
    "nn_test.neuron_out"
   ]
  },
  {
   "cell_type": "code",
   "execution_count": null,
   "metadata": {},
   "outputs": [],
   "source": []
  },
  {
   "cell_type": "markdown",
   "metadata": {},
   "source": [
    "## Parte 2 - Framework para Redes Neurais\n"
   ]
  },
  {
   "cell_type": "code",
   "execution_count": 114,
   "metadata": {},
   "outputs": [],
   "source": [
    "import tensorflow as tf\n",
    "\n",
    "from tensorflow.keras.models import Sequential\n",
    "from tensorflow.keras.layers import Dense\n",
    "from sklearn.model_selection import cross_val_score\n",
    "from sklearn.model_selection import KFold\n",
    "from tensorflow.keras.optimizers import Adam\n",
    "\n",
    "from sklearn.preprocessing import LabelEncoder\n",
    "from sklearn.metrics import classification_report, confusion_matrix\n",
    "\n",
    "from tensorflow.keras.datasets import mnist\n",
    "\n",
    "from tensorflow.keras.utils import to_categorical\n",
    "\n",
    "import seaborn as sns \n"
   ]
  },
  {
   "cell_type": "code",
   "execution_count": 117,
   "metadata": {},
   "outputs": [
    {
     "name": "stdout",
     "output_type": "stream",
     "text": [
      "Number of available GPUs\n"
     ]
    },
    {
     "data": {
      "text/plain": [
       "1"
      ]
     },
     "execution_count": 117,
     "metadata": {},
     "output_type": "execute_result"
    }
   ],
   "source": [
    "print('Number of available GPUs')\n",
    "len(tf.config.experimental.list_physical_devices('GPU'))"
   ]
  },
  {
   "cell_type": "code",
   "execution_count": 118,
   "metadata": {},
   "outputs": [],
   "source": [
    "(x_train, y_train), (x_test, y_test) = mnist.load_data(path=\"mnist.npz\")\n",
    "\n",
    "flatten_x_train = x_train.reshape(-1,28*28)\n",
    "flatten_x_test = x_test.reshape(-1,28*28)\n",
    "\n",
    "norm_x_train = flatten_x_train/255.0\n",
    "norm_x_test = flatten_x_test/255.0"
   ]
  },
  {
   "cell_type": "code",
   "execution_count": 119,
   "metadata": {},
   "outputs": [],
   "source": [
    "encoder = LabelEncoder()\n",
    "encoder.fit(y_train)\n",
    "encoded_Yt = encoder.transform(y_train)\n",
    "\n",
    "encoded_Ytst = encoder.transform(y_test)\n",
    "\n",
    "encoded_y_train = to_categorical(encoded_Yt)\n",
    "encoded_y_test = to_categorical(encoded_Ytst)"
   ]
  },
  {
   "cell_type": "code",
   "execution_count": 120,
   "metadata": {},
   "outputs": [],
   "source": [
    "n_input = flatten_x_train.shape[1]\n",
    "n_output = encoded_y_train.shape[1]"
   ]
  },
  {
   "cell_type": "code",
   "execution_count": 121,
   "metadata": {},
   "outputs": [],
   "source": [
    "def create_model(hidden_neurons = [4], hidden_activation = ['relu'], output_activation='softmax',lr=0.05):\n",
    "    # create model\n",
    "    model = Sequential()\n",
    "    model.add(Dense(hidden_neurons[0], input_dim=n_input, activation='relu'))\n",
    "    for i in range(1,len(hidden_neurons)):\n",
    "        model.add(Dense(hidden_neurons[i], input_dim=hidden_neurons[i-1], activation='relu'))\n",
    "        \n",
    "\n",
    "    model.add(Dense(n_output, activation=output_activation))\n",
    "    # Compile model\n",
    "    opt = Adam(lr=lr)\n",
    "    model.compile(\n",
    "                    optimizer=tf.keras.optimizers.Adam(0.001),\n",
    "                    loss=tf.keras.losses.CategoricalCrossentropy(),\n",
    "                    metrics=[tf.keras.metrics.CategoricalAccuracy()])\n",
    "    return model"
   ]
  },
  {
   "cell_type": "code",
   "execution_count": 122,
   "metadata": {},
   "outputs": [],
   "source": [
    "model = create_model(hidden_neurons=[80],lr=0.1)"
   ]
  },
  {
   "cell_type": "code",
   "execution_count": 123,
   "metadata": {},
   "outputs": [
    {
     "name": "stdout",
     "output_type": "stream",
     "text": [
      "Model: \"sequential\"\n",
      "_________________________________________________________________\n",
      "Layer (type)                 Output Shape              Param #   \n",
      "=================================================================\n",
      "dense (Dense)                (None, 80)                62800     \n",
      "_________________________________________________________________\n",
      "dense_1 (Dense)              (None, 10)                810       \n",
      "=================================================================\n",
      "Total params: 63,610\n",
      "Trainable params: 63,610\n",
      "Non-trainable params: 0\n",
      "_________________________________________________________________\n"
     ]
    }
   ],
   "source": [
    "model.summary()"
   ]
  },
  {
   "cell_type": "code",
   "execution_count": 124,
   "metadata": {},
   "outputs": [
    {
     "name": "stdout",
     "output_type": "stream",
     "text": [
      "Train on 48000 samples, validate on 12000 samples\n",
      "Epoch 1/60\n",
      "48000/48000 [==============================] - 4s 88us/sample - loss: 0.3097 - categorical_accuracy: 0.9125 - val_loss: 0.1761 - val_categorical_accuracy: 0.9510\n",
      "Epoch 2/60\n",
      "48000/48000 [==============================] - 3s 69us/sample - loss: 0.1443 - categorical_accuracy: 0.9576 - val_loss: 0.1226 - val_categorical_accuracy: 0.9624\n",
      "Epoch 3/60\n",
      "48000/48000 [==============================] - 4s 87us/sample - loss: 0.1027 - categorical_accuracy: 0.9700 - val_loss: 0.1144 - val_categorical_accuracy: 0.9656\n",
      "Epoch 4/60\n",
      "48000/48000 [==============================] - 4s 73us/sample - loss: 0.0795 - categorical_accuracy: 0.9766 - val_loss: 0.0962 - val_categorical_accuracy: 0.9710\n",
      "Epoch 5/60\n",
      "48000/48000 [==============================] - 3s 70us/sample - loss: 0.0644 - categorical_accuracy: 0.9808 - val_loss: 0.0895 - val_categorical_accuracy: 0.9725\n",
      "Epoch 6/60\n",
      "48000/48000 [==============================] - 3s 70us/sample - loss: 0.0524 - categorical_accuracy: 0.9837 - val_loss: 0.0892 - val_categorical_accuracy: 0.9718\n",
      "Epoch 7/60\n",
      "48000/48000 [==============================] - 3s 70us/sample - loss: 0.0422 - categorical_accuracy: 0.9873 - val_loss: 0.0893 - val_categorical_accuracy: 0.9732\n",
      "Epoch 8/60\n",
      "48000/48000 [==============================] - 4s 74us/sample - loss: 0.0364 - categorical_accuracy: 0.9892 - val_loss: 0.0821 - val_categorical_accuracy: 0.9755\n",
      "Epoch 9/60\n",
      "48000/48000 [==============================] - 3s 73us/sample - loss: 0.0291 - categorical_accuracy: 0.9911 - val_loss: 0.0924 - val_categorical_accuracy: 0.9728\n",
      "Epoch 10/60\n",
      "48000/48000 [==============================] - 3s 72us/sample - loss: 0.0254 - categorical_accuracy: 0.9922 - val_loss: 0.0899 - val_categorical_accuracy: 0.9742\n",
      "Epoch 11/60\n",
      "48000/48000 [==============================] - 3s 72us/sample - loss: 0.0211 - categorical_accuracy: 0.9935 - val_loss: 0.0992 - val_categorical_accuracy: 0.9729\n",
      "Epoch 12/60\n",
      "48000/48000 [==============================] - 3s 73us/sample - loss: 0.0187 - categorical_accuracy: 0.9942 - val_loss: 0.0904 - val_categorical_accuracy: 0.9758\n",
      "Epoch 13/60\n",
      "48000/48000 [==============================] - 4s 79us/sample - loss: 0.0155 - categorical_accuracy: 0.9954 - val_loss: 0.0982 - val_categorical_accuracy: 0.9760\n",
      "Epoch 14/60\n",
      "48000/48000 [==============================] - 4s 76us/sample - loss: 0.0136 - categorical_accuracy: 0.9960 - val_loss: 0.1002 - val_categorical_accuracy: 0.9742\n",
      "Epoch 15/60\n",
      "48000/48000 [==============================] - 4s 77us/sample - loss: 0.0110 - categorical_accuracy: 0.9970 - val_loss: 0.1147 - val_categorical_accuracy: 0.9739\n",
      "Epoch 16/60\n",
      "48000/48000 [==============================] - 4s 74us/sample - loss: 0.0095 - categorical_accuracy: 0.9976 - val_loss: 0.1183 - val_categorical_accuracy: 0.9732\n",
      "Epoch 17/60\n",
      "48000/48000 [==============================] - 4s 76us/sample - loss: 0.0103 - categorical_accuracy: 0.9969 - val_loss: 0.1118 - val_categorical_accuracy: 0.9757\n",
      "Epoch 18/60\n",
      "48000/48000 [==============================] - 4s 76us/sample - loss: 0.0081 - categorical_accuracy: 0.9977 - val_loss: 0.1080 - val_categorical_accuracy: 0.9760\n",
      "Epoch 19/60\n",
      "48000/48000 [==============================] - 4s 78us/sample - loss: 0.0072 - categorical_accuracy: 0.9977 - val_loss: 0.1273 - val_categorical_accuracy: 0.9730\n",
      "Epoch 20/60\n",
      "48000/48000 [==============================] - 4s 75us/sample - loss: 0.0080 - categorical_accuracy: 0.9977 - val_loss: 0.1191 - val_categorical_accuracy: 0.9746\n",
      "Epoch 21/60\n",
      "48000/48000 [==============================] - 4s 75us/sample - loss: 0.0052 - categorical_accuracy: 0.9986 - val_loss: 0.1178 - val_categorical_accuracy: 0.9768\n",
      "Epoch 22/60\n",
      "48000/48000 [==============================] - 4s 78us/sample - loss: 0.0052 - categorical_accuracy: 0.9984 - val_loss: 0.1341 - val_categorical_accuracy: 0.9733\n",
      "Epoch 23/60\n",
      "48000/48000 [==============================] - 4s 76us/sample - loss: 0.0052 - categorical_accuracy: 0.9986 - val_loss: 0.1255 - val_categorical_accuracy: 0.9755\n",
      "Epoch 24/60\n",
      "48000/48000 [==============================] - 4s 75us/sample - loss: 0.0040 - categorical_accuracy: 0.9989 - val_loss: 0.1293 - val_categorical_accuracy: 0.9747\n",
      "Epoch 25/60\n",
      "48000/48000 [==============================] - 4s 74us/sample - loss: 0.0039 - categorical_accuracy: 0.9991 - val_loss: 0.1247 - val_categorical_accuracy: 0.9758\n",
      "Epoch 26/60\n",
      "48000/48000 [==============================] - 4s 80us/sample - loss: 0.0050 - categorical_accuracy: 0.9987 - val_loss: 0.1429 - val_categorical_accuracy: 0.9734\n",
      "Epoch 27/60\n",
      "48000/48000 [==============================] - 3s 72us/sample - loss: 0.0051 - categorical_accuracy: 0.9984 - val_loss: 0.1474 - val_categorical_accuracy: 0.9731\n",
      "Epoch 28/60\n",
      "48000/48000 [==============================] - 4s 77us/sample - loss: 0.0030 - categorical_accuracy: 0.9993 - val_loss: 0.1368 - val_categorical_accuracy: 0.9754\n",
      "Epoch 29/60\n",
      "48000/48000 [==============================] - 4s 76us/sample - loss: 0.0030 - categorical_accuracy: 0.9992 - val_loss: 0.1640 - val_categorical_accuracy: 0.9710\n",
      "Epoch 30/60\n",
      "48000/48000 [==============================] - 4s 79us/sample - loss: 0.0051 - categorical_accuracy: 0.9982 - val_loss: 0.1455 - val_categorical_accuracy: 0.9753\n",
      "Epoch 31/60\n",
      "48000/48000 [==============================] - 4s 80us/sample - loss: 0.0043 - categorical_accuracy: 0.9988 - val_loss: 0.1572 - val_categorical_accuracy: 0.9733\n",
      "Epoch 32/60\n",
      "48000/48000 [==============================] - 4s 81us/sample - loss: 0.0034 - categorical_accuracy: 0.9989 - val_loss: 0.1784 - val_categorical_accuracy: 0.9726\n",
      "Epoch 33/60\n",
      "48000/48000 [==============================] - 4s 78us/sample - loss: 0.0031 - categorical_accuracy: 0.9991 - val_loss: 0.1483 - val_categorical_accuracy: 0.9764\n",
      "Epoch 34/60\n",
      "48000/48000 [==============================] - 4s 77us/sample - loss: 0.0040 - categorical_accuracy: 0.9989 - val_loss: 0.1493 - val_categorical_accuracy: 0.9756\n",
      "Epoch 35/60\n",
      "48000/48000 [==============================] - 4s 77us/sample - loss: 6.7965e-04 - categorical_accuracy: 0.9999 - val_loss: 0.1557 - val_categorical_accuracy: 0.9754\n",
      "Epoch 36/60\n",
      "48000/48000 [==============================] - 4s 74us/sample - loss: 0.0060 - categorical_accuracy: 0.9978 - val_loss: 0.1496 - val_categorical_accuracy: 0.9770\n",
      "Epoch 37/60\n",
      "48000/48000 [==============================] - 4s 74us/sample - loss: 0.0015 - categorical_accuracy: 0.9996 - val_loss: 0.1580 - val_categorical_accuracy: 0.9747\n",
      "Epoch 38/60\n",
      "48000/48000 [==============================] - 3s 72us/sample - loss: 0.0025 - categorical_accuracy: 0.9992 - val_loss: 0.1585 - val_categorical_accuracy: 0.9760\n",
      "Epoch 39/60\n",
      "48000/48000 [==============================] - 4s 77us/sample - loss: 0.0041 - categorical_accuracy: 0.9986 - val_loss: 0.1567 - val_categorical_accuracy: 0.9770\n",
      "Epoch 40/60\n",
      "48000/48000 [==============================] - 3s 73us/sample - loss: 0.0017 - categorical_accuracy: 0.9995 - val_loss: 0.1747 - val_categorical_accuracy: 0.9747\n",
      "Epoch 41/60\n",
      "48000/48000 [==============================] - 4s 74us/sample - loss: 0.0038 - categorical_accuracy: 0.9988 - val_loss: 0.1669 - val_categorical_accuracy: 0.9753\n",
      "Epoch 42/60\n",
      "48000/48000 [==============================] - 4s 80us/sample - loss: 0.0034 - categorical_accuracy: 0.9990 - val_loss: 0.1704 - val_categorical_accuracy: 0.9747\n",
      "Epoch 43/60\n",
      "48000/48000 [==============================] - 4s 87us/sample - loss: 0.0033 - categorical_accuracy: 0.9990 - val_loss: 0.1872 - val_categorical_accuracy: 0.9722\n",
      "Epoch 44/60\n",
      "48000/48000 [==============================] - 4s 87us/sample - loss: 0.0015 - categorical_accuracy: 0.9996 - val_loss: 0.1593 - val_categorical_accuracy: 0.9778\n",
      "Epoch 45/60\n",
      "48000/48000 [==============================] - 4s 81us/sample - loss: 1.9992e-04 - categorical_accuracy: 1.0000 - val_loss: 0.1552 - val_categorical_accuracy: 0.9783\n",
      "Epoch 46/60\n",
      "48000/48000 [==============================] - 4s 80us/sample - loss: 1.1395e-04 - categorical_accuracy: 1.0000 - val_loss: 0.1575 - val_categorical_accuracy: 0.9786\n",
      "Epoch 47/60\n",
      "48000/48000 [==============================] - 4s 77us/sample - loss: 0.0072 - categorical_accuracy: 0.9977 - val_loss: 0.1585 - val_categorical_accuracy: 0.9768\n",
      "Epoch 48/60\n",
      "48000/48000 [==============================] - 4s 75us/sample - loss: 0.0017 - categorical_accuracy: 0.9996 - val_loss: 0.1746 - val_categorical_accuracy: 0.9765\n",
      "Epoch 49/60\n",
      "48000/48000 [==============================] - 3s 72us/sample - loss: 0.0045 - categorical_accuracy: 0.9985 - val_loss: 0.1751 - val_categorical_accuracy: 0.9768\n",
      "Epoch 50/60\n",
      "48000/48000 [==============================] - 3s 72us/sample - loss: 0.0014 - categorical_accuracy: 0.9997 - val_loss: 0.1890 - val_categorical_accuracy: 0.9762\n",
      "Epoch 51/60\n",
      "48000/48000 [==============================] - 3s 72us/sample - loss: 0.0043 - categorical_accuracy: 0.9985 - val_loss: 0.1765 - val_categorical_accuracy: 0.9760\n",
      "Epoch 52/60\n",
      "48000/48000 [==============================] - 4s 80us/sample - loss: 0.0015 - categorical_accuracy: 0.9997 - val_loss: 0.1736 - val_categorical_accuracy: 0.9774\n",
      "Epoch 53/60\n",
      "48000/48000 [==============================] - 4s 74us/sample - loss: 2.0088e-04 - categorical_accuracy: 1.0000 - val_loss: 0.1623 - val_categorical_accuracy: 0.9776\n",
      "Epoch 54/60\n",
      "48000/48000 [==============================] - 4s 85us/sample - loss: 5.2324e-05 - categorical_accuracy: 1.0000 - val_loss: 0.1631 - val_categorical_accuracy: 0.9785\n",
      "Epoch 55/60\n",
      "48000/48000 [==============================] - 4s 77us/sample - loss: 3.5643e-05 - categorical_accuracy: 1.0000 - val_loss: 0.1651 - val_categorical_accuracy: 0.9787\n",
      "Epoch 56/60\n",
      "48000/48000 [==============================] - 4s 90us/sample - loss: 0.0058 - categorical_accuracy: 0.9984 - val_loss: 0.2004 - val_categorical_accuracy: 0.9746\n",
      "Epoch 57/60\n",
      "48000/48000 [==============================] - 4s 80us/sample - loss: 0.0018 - categorical_accuracy: 0.9994 - val_loss: 0.1887 - val_categorical_accuracy: 0.9769\n",
      "Epoch 58/60\n",
      "48000/48000 [==============================] - 4s 81us/sample - loss: 0.0022 - categorical_accuracy: 0.9994 - val_loss: 0.1758 - val_categorical_accuracy: 0.9783\n",
      "Epoch 59/60\n",
      "48000/48000 [==============================] - 4s 78us/sample - loss: 0.0011 - categorical_accuracy: 0.9996 - val_loss: 0.1838 - val_categorical_accuracy: 0.9758\n",
      "Epoch 60/60\n",
      "48000/48000 [==============================] - 4s 77us/sample - loss: 0.0024 - categorical_accuracy: 0.9993 - val_loss: 0.1961 - val_categorical_accuracy: 0.9739\n"
     ]
    },
    {
     "data": {
      "text/plain": [
       "<tensorflow.python.keras.callbacks.History at 0x2203453fa90>"
      ]
     },
     "execution_count": 124,
     "metadata": {},
     "output_type": "execute_result"
    }
   ],
   "source": [
    "model.fit(x=norm_x_train,y=encoded_y_train,epochs=60,validation_split=0.2)"
   ]
  },
  {
   "cell_type": "code",
   "execution_count": 125,
   "metadata": {},
   "outputs": [
    {
     "name": "stdout",
     "output_type": "stream",
     "text": [
      "Confusion Matrix\n",
      "[[ 974    1    0    0    0    1    2    0    2    0]\n",
      " [   0 1126    1    2    0    1    2    3    0    0]\n",
      " [  10    5  984   14    1    0    0   12    6    0]\n",
      " [   0    0    0  993    0    7    1    3    4    2]\n",
      " [   0    1    2    2  950    1    7    4    1   14]\n",
      " [   4    1    0   10    0  867    6    1    2    1]\n",
      " [   4    3    1    0    5    2  941    2    0    0]\n",
      " [   0    5    6    4    1    0    0 1007    2    3]\n",
      " [   5    2    3    9    5    5    2    5  937    1]\n",
      " [   4    2    0   10    7    3    1    5    3  974]]\n",
      "Classification Report\n",
      "              precision    recall  f1-score   support\n",
      "\n",
      "           0       0.97      0.99      0.98       980\n",
      "           1       0.98      0.99      0.99      1135\n",
      "           2       0.99      0.95      0.97      1032\n",
      "           3       0.95      0.98      0.97      1010\n",
      "           4       0.98      0.97      0.97       982\n",
      "           5       0.98      0.97      0.97       892\n",
      "           6       0.98      0.98      0.98       958\n",
      "           7       0.97      0.98      0.97      1028\n",
      "           8       0.98      0.96      0.97       974\n",
      "           9       0.98      0.97      0.97      1009\n",
      "\n",
      "    accuracy                           0.98     10000\n",
      "   macro avg       0.98      0.98      0.98     10000\n",
      "weighted avg       0.98      0.98      0.98     10000\n",
      "\n"
     ]
    }
   ],
   "source": [
    "Y_pred = model.predict(norm_x_test)\n",
    "y_pred = np.argmax(Y_pred, axis=1)\n",
    "print('Confusion Matrix')\n",
    "print(confusion_matrix(y_test, y_pred))\n",
    "cm = confusion_matrix(y_test, y_pred)\n",
    "print('Classification Report')\n",
    "target_names = ['0','1','2','3','4','5','6','7','8','9']\n",
    "print(classification_report(y_test, y_pred, target_names=target_names))"
   ]
  },
  {
   "cell_type": "code",
   "execution_count": 126,
   "metadata": {},
   "outputs": [
    {
     "data": {
      "text/plain": [
       "Text(0.5, 123.0, 'Predicted')"
      ]
     },
     "execution_count": 126,
     "metadata": {},
     "output_type": "execute_result"
    },
    {
     "data": {
      "image/png": "[encoded data removed]",
      "text/plain": [
       "<Figure size 2160x1152 with 2 Axes>"
      ]
     },
     "metadata": {
      "needs_background": "light"
     },
     "output_type": "display_data"
    }
   ],
   "source": [
    "plt.figure(figsize=(30,16))\n",
    "cmn = cm.astype('float') / cm.sum(axis=1)[:, np.newaxis]\n",
    "sns.heatmap(cmn,annot=True)\n",
    "plt.ylabel('Actual')\n",
    "plt.xlabel('Predicted')"
   ]
  },
  {
   "cell_type": "code",
   "execution_count": 127,
   "metadata": {},
   "outputs": [
    {
     "data": {
      "text/plain": [
       "<matplotlib.image.AxesImage at 0x22193b72748>"
      ]
     },
     "execution_count": 127,
     "metadata": {},
     "output_type": "execute_result"
    },
    {
     "data": {
      "image/png": "[encoded data removed]",
      "text/plain": [
       "<Figure size 432x288 with 1 Axes>"
      ]
     },
     "metadata": {
      "needs_background": "light"
     },
     "output_type": "display_data"
    }
   ],
   "source": [
    "plt.imshow(flatten_x_train[0].reshape((28,28)),cmap='gray')"
   ]
  },
  {
   "cell_type": "code",
   "execution_count": null,
   "metadata": {},
   "outputs": [],
   "source": []
  },
  {
   "cell_type": "code",
   "execution_count": null,
   "metadata": {},
   "outputs": [],
   "source": []
  }
 ],
 "metadata": {
  "kernelspec": {
   "display_name": "nnpuc",
   "language": "python",
   "name": "nnpuc"
  },
  "language_info": {
   "codemirror_mode": {
    "name": "ipython",
    "version": 3
   },
   "file_extension": ".py",
   "mimetype": "text/x-python",
   "name": "python",
   "nbconvert_exporter": "python",
   "pygments_lexer": "ipython3",
   "version": "3.6.13"
  }
 },
 "nbformat": 4,
 "nbformat_minor": 4
}
